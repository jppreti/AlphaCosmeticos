{
  "nbformat": 4,
  "nbformat_minor": 0,
  "metadata": {
    "colab": {
      "name": "Copy of LP20221.ipynb",
      "provenance": [],
      "include_colab_link": true
    },
    "kernelspec": {
      "name": "python3",
      "display_name": "Python 3"
    },
    "language_info": {
      "name": "python"
    }
  },
  "cells": [
    {
      "cell_type": "markdown",
      "metadata": {
        "id": "view-in-github",
        "colab_type": "text"
      },
      "source": [
        "<a href=\"https://colab.research.google.com/github/jppreti/AlphaCosmeticos/blob/master/Copy_of_LP20221.ipynb\" target=\"_parent\"><img src=\"https://colab.research.google.com/assets/colab-badge.svg\" alt=\"Open In Colab\"/></a>"
      ]
    },
    {
      "cell_type": "markdown",
      "source": [
        "Códigos em Python apresentados na disciplina de **Laboratório de Programação** da turma de **2022/1**."
      ],
      "metadata": {
        "id": "Qn_dYXTxkfye"
      }
    },
    {
      "cell_type": "markdown",
      "source": [
        "Primeiro exemplo em python:"
      ],
      "metadata": {
        "id": "NRUNgwkUbRi8"
      }
    },
    {
      "cell_type": "code",
      "execution_count": null,
      "metadata": {
        "id": "9Of7DJmyTvaj",
        "outputId": "e3007bba-413f-405b-a307-2f6cb2a22f0b",
        "colab": {
          "base_uri": "https://localhost:8080/"
        }
      },
      "outputs": [
        {
          "output_type": "stream",
          "name": "stdout",
          "text": [
            "Digite seu nome: j\n",
            "Digite sua idade: 23\n",
            "<class 'int'>\n",
            "33\n",
            "Olá Maria! Sua idade é: 42\n",
            "Olá j - 33, seja bem vindo(a)!\n"
          ]
        }
      ],
      "source": [
        "nome1 = \"Maria\"                                         # criando uma variável texto\n",
        "idade1 = 42\n",
        "nome2 = input(\"Digite seu nome: \")                      # pedindo dados ao usuário\n",
        "idade2 = int(input(\"Digite sua idade: \"))\n",
        "print(type(idade2))                                     # verificando o tipo da variável\n",
        "print(idade2+10)\n",
        "print(\"Olá \" + nome1 + \"! Sua idade é: \" + str(idade1)) # imprimindo a mensagem de olá\n",
        "print(f\"Olá {nome2} - {idade2+10}, seja bem vindo(a)!\") # imprimindo mensagem formatada\n"
      ]
    },
    {
      "cell_type": "markdown",
      "source": [
        "Conversão de tipo:"
      ],
      "metadata": {
        "id": "UG-ZiW8Gawvp"
      }
    },
    {
      "cell_type": "code",
      "source": [
        "x = 5             # criamos uma variável com valor inteiro\n",
        "y = 4.3           # criamos uma variável com valor float (real)\n",
        "\n",
        "print(type(x))    # apresentando o tipo de x\n",
        "print(type(y))    # apresentando o tipo de y\n",
        "\n",
        "print(f\"x: {x}\")  # exibindo o valor de x \n",
        "print(f\"y: {y}\")  # exibindo o valor de y\n",
        "\n",
        "z = float(x)      # conversão do valor de x para float\n",
        "w = int(y)        # conversão do valor de y para int\n",
        "\n",
        "print(f\"z: {z}\")  # exibindo o valor de z que é o valor de x convertido em float\n",
        "print(f\"w: {w}\")  # exibindo o valor de w que é o valor de y convertido em float\n"
      ],
      "metadata": {
        "colab": {
          "base_uri": "https://localhost:8080/"
        },
        "id": "J8c2wHSXa27p",
        "outputId": "f358b9aa-7271-4495-fe5d-e5a4ba0d806d"
      },
      "execution_count": null,
      "outputs": [
        {
          "output_type": "stream",
          "name": "stdout",
          "text": [
            "<class 'int'>\n",
            "<class 'float'>\n",
            "x: 5\n",
            "y: 4.3\n",
            "z: 5.0\n",
            "w: 4\n"
          ]
        }
      ]
    },
    {
      "cell_type": "markdown",
      "source": [
        "Operações com String (texto)"
      ],
      "metadata": {
        "id": "RG1Bq3Rqd0qM"
      }
    },
    {
      "cell_type": "code",
      "source": [
        "nome = \"   João Paulo   \"\n",
        "print(len(nome))             #tamanho da string\n",
        "nome = nome.strip()          #remove os espaços em branco nas extremidades\n",
        "print(len(nome))\n",
        "print(nome[1])               #o primeiro caractere é o de posição 0\n",
        "print(nome[2:4])             #de 2 a 3 (último não incluso)\n",
        "print(nome[-5:-1])           #começa a contagem pelo final da string\n",
        "print(nome[0:10:2])          ##de 0 a 10 (último não incluso) saltando duas posições a cada caractere\n",
        "print(nome.lower())          #transforma em minúsculo\n",
        "print(nome.upper())          #transforma em maiúsculo\n",
        "print(nome.replace(\"o\",\"0\")) #substitui a string\n",
        "print(nome.split(\" \"))       #returns [\"João\",\"Paulo\"]\n",
        "print(\"au\" in nome)          #retorna True se existe na string\n",
        "print(\"au\" not in nome)      #retorna True se não existe na string\n",
        "idade = 40\n",
        "texto = \"Meu nome é {} e tenho {} anos.\"\n",
        "print(texto.format(nome,idade))"
      ],
      "metadata": {
        "colab": {
          "base_uri": "https://localhost:8080/"
        },
        "id": "1wn3H7U6eC-d",
        "outputId": "3f980cd7-ee35-4389-e99e-6414924a3148"
      },
      "execution_count": null,
      "outputs": [
        {
          "output_type": "stream",
          "name": "stdout",
          "text": [
            "16\n",
            "10\n",
            "o\n",
            "ão\n",
            "Paul\n",
            "joão paulo\n",
            "JOÃO PAULO\n",
            "J0ã0 Paul0\n",
            "['João', 'Paulo']\n",
            "True\n",
            "False\n",
            "Meu nome é João Paulo e tenho 40 anos.\n"
          ]
        }
      ]
    },
    {
      "cell_type": "code",
      "source": [
        "nota = float(input(\"Digite a nota do estudante: \"))\n",
        "\n",
        "if nota == 10:\n",
        "  print(\"Aprovado com Mérito\")\n",
        "elif nota >= 6:\n",
        "  print(\"Aprovado\")\n",
        "elif nota >= 5:\n",
        "  print(\"Em recuperação\")\n",
        "  notapf = float(input(\"Digite a nota da PF: \"))\n",
        "  media = (nota + notapf)/2\n",
        "  if (media >= 5):\n",
        "    print(\"Aprovado na Recuperação\")\n",
        "  else:\n",
        "    print(\"Reprovado na Recuperação\")\n",
        "else:\n",
        "  print(\"Reprovado\")"
      ],
      "metadata": {
        "colab": {
          "base_uri": "https://localhost:8080/"
        },
        "id": "IrjU234Gkx-x",
        "outputId": "bd430817-5cbd-4d8c-c1d3-11dd5c1305db"
      },
      "execution_count": null,
      "outputs": [
        {
          "output_type": "stream",
          "name": "stdout",
          "text": [
            "Digite a nota do estudante: 5\n",
            "Em recuperação\n",
            "Digite a nota da PF: 3\n",
            "Reprovado na Recuperação\n"
          ]
        }
      ]
    },
    {
      "cell_type": "markdown",
      "source": [
        "Faça um programa que leia o nome, a qtde e o valor de um produto qualquer, apresente os dados do produto e o valor total. Ao final peça para o usuário informar se é cliente (bronze, prata ou ouro) e apresente um novo valor total com o desconto equivalente a sua categoria (5%, 7%, 10%)"
      ],
      "metadata": {
        "id": "5MevBcxzwRyK"
      }
    },
    {
      "cell_type": "code",
      "source": [
        "nome = input(\"Digite o nome do produto: \")\n",
        "qtde = int(input(\"Digite a qtde do produto: \"))\n",
        "valor_produto = float(input(\"Digite o valor unitário do produto: \"))\n",
        "\n",
        "print(f\"Nome: {nome}\")\n",
        "print(f\"Qtde: {qtde}\")\n",
        "print(f\"Valor Unitário: {valor_produto}\")\n",
        "valor_total = qtde*valor_produto\n",
        "print(f\"Valor Total: {valor_total}\")\n",
        "\n",
        "categoria_cliente = input(\"Informe sua categoria(bronze, prata , ouro): \")\n",
        "categoria_cliente = categoria_cliente.strip().lower()\n",
        "desconto = 0.0\n",
        "if categoria_cliente == \"bronze\":\n",
        "  desconto = 5/100                # desconto = valor_total * (5/100) \n",
        "elif categoria_cliente == \"prata\":\n",
        "  desconto = 7/100\n",
        "elif categoria_cliente == \"ouro\":\n",
        "  desconto - 10/100\n",
        "else:\n",
        "  desconto = 0.0\n",
        "\n",
        "novo_valor_total = valor_total * (1-desconto)   # valor_total - desconto\n",
        "print(f\"Valor total com desconto para cliente {categoria_cliente}: {novo_valor_total}\")\n",
        "\n",
        "\n",
        "\n"
      ],
      "metadata": {
        "id": "npW-Fl8ew8sI",
        "outputId": "288b0ffb-39be-43d5-9ed7-002f18818023",
        "colab": {
          "base_uri": "https://localhost:8080/"
        }
      },
      "execution_count": null,
      "outputs": [
        {
          "output_type": "stream",
          "name": "stdout",
          "text": [
            "Digite o nome do produto: Caneta\n",
            "Digite a qtde do produto: 10\n",
            "Digite o valor unitário do produto: 10\n",
            "Nome: Caneta\n",
            "Qtde: 10\n",
            "Valor Unitário: 10.0\n",
            "Valor Total: 100.0\n",
            "Informe sua categoria(bronze, prata , ouro): PrAtA    \n",
            "Valor total com desconto para cliente prata: 93.0\n"
          ]
        }
      ]
    },
    {
      "cell_type": "markdown",
      "source": [
        "Altere o exemplo anterior para utilizar funções."
      ],
      "metadata": {
        "id": "5vCB74UQiPfw"
      }
    },
    {
      "cell_type": "code",
      "source": [
        "def valor_total(valor_unitario, qtde, desconto):\n",
        "  return valor_unitario * qtde * (1-desconto)\n",
        "\n",
        "nome = input(\"Digite o nome do produto: \")\n",
        "qtde = int(input(\"Digite a qtde do produto: \"))\n",
        "valor_produto = float(input(\"Digite o valor unitário do produto: \"))\n",
        "print(f\"Nome: {nome}\")\n",
        "print(f\"Qtde: {qtde}\")\n",
        "print(f\"Valor Unitário: {valor_produto}\")\n",
        "print(f\"Valor Total: {valor_total(valor_produto,qtde,0)}\")\n",
        "\n",
        "categoria_cliente = input(\"Informe sua categoria(bronze, prata , ouro): \")\n",
        "categoria_cliente = categoria_cliente.strip().lower()\n",
        "desconto = 0.0\n",
        "if categoria_cliente == \"bronze\":\n",
        "  desconto = 5/100                # desconto = valor_total * (5/100) \n",
        "elif categoria_cliente == \"prata\":\n",
        "  desconto = 7/100\n",
        "elif categoria_cliente == \"ouro\":\n",
        "  desconto - 10/100\n",
        "else:\n",
        "  desconto = 0.0\n",
        "\n",
        "print(f\"Valor total com desconto para cliente {categoria_cliente}: {valor_total(valor_produto,qtde,desconto)}\")\n",
        "\n",
        "\n",
        "\n"
      ],
      "metadata": {
        "id": "fZ_dv9U8gKkN"
      },
      "execution_count": null,
      "outputs": []
    },
    {
      "cell_type": "markdown",
      "source": [
        "Tamanho de strings. Faça um programa que leia 2 strings e informe o conteúdo delas seguido do seu comprimento. Informe também se as duas strings possuem o mesmo comprimento e são iguais ou diferentes no conteúdo.\n",
        "\n",
        "Compara duas strings\n",
        "\n",
        "String 1: Brasil Hexa 2022\n",
        "\n",
        "String 2: Brasil! Hexa 2022!\n",
        "\n",
        "Tamanho de \"Brasil Hexa 2022\": 16 caracteres\n",
        "\n",
        "Tamanho de \"Brasil! Hexa 2022!\": 18 caracteres\n",
        "\n",
        "As duas strings são de tamanhos diferentes.\n",
        "\n",
        "As duas strings possuem conteúdo diferente.\n"
      ],
      "metadata": {
        "id": "dc1WMpUKjvqm"
      }
    },
    {
      "cell_type": "code",
      "source": [
        "string1 = input(\"Digite o primeiro texto: \")\n",
        "string2 = input(\"Digite o segundo texto: \")\n",
        "\n",
        "tam1 = len(string1)\n",
        "tam2 = len(string2)\n",
        "\n",
        "print(f\"Tamanho de {string1}: {tam1}\")\n",
        "print(f\"Tamanho de {string2}: {tam2}\")\n",
        "\n",
        "if (tam1 == tam2):\n",
        "  print(\"São de tamanhos iguais\")\n",
        "else:\n",
        "  print(\"São de tamanhos diferentes\")\n",
        "\n",
        "if (string1 == string2):\n",
        "  print(\"O conteúdo dos dois textos é igual\")\n",
        "else:\n",
        "  print(\"O conteúdo dos dois textos é diferente\")\n",
        "\n"
      ],
      "metadata": {
        "id": "3-43F1nYqReO",
        "colab": {
          "base_uri": "https://localhost:8080/"
        },
        "outputId": "d7ce6407-1e57-4ce3-ea95-2cf03a431dd0"
      },
      "execution_count": null,
      "outputs": [
        {
          "output_type": "stream",
          "name": "stdout",
          "text": [
            "Digite o primeiro texto: abc\n",
            "Digite o segundo texto: cba\n",
            "Tamanho de abc: 3\n",
            "Tamanho de cba: 3\n",
            "São de tamanhos iguais\n",
            "O conteúdo dos dois textos é diferente\n"
          ]
        }
      ]
    },
    {
      "cell_type": "markdown",
      "source": [
        "\n",
        "Nome ao contrário em maiúsculas. Faça um programa que permita ao usuário digitar o seu nome e em seguida mostre o nome do usuário de trás para frente utilizando somente letras maiúsculas. Dica: lembre−se que ao solicitar o nome, o usuário pode digitar letras maiúsculas ou minúsculas."
      ],
      "metadata": {
        "id": "OxqlZ4BxkAkj"
      }
    },
    {
      "cell_type": "code",
      "source": [
        "nome = input(\"Nome: \").upper()\n",
        "print(nome[::-1])"
      ],
      "metadata": {
        "id": "2cVQ_eaNqQ-m",
        "colab": {
          "base_uri": "https://localhost:8080/"
        },
        "outputId": "d32b0c9a-6408-400a-df22-c80ec1509b86"
      },
      "execution_count": null,
      "outputs": [
        {
          "output_type": "stream",
          "name": "stdout",
          "text": [
            "Nome: Joao Paulo\n",
            "OLUAP OAOJ\n"
          ]
        }
      ]
    },
    {
      "cell_type": "markdown",
      "source": [
        "Nome na vertical em escada. Modifique o programa anterior de forma a mostrar o nome em formato de escada.\n",
        "\n",
        "F\n",
        "\n",
        "FU\n",
        "\n",
        "FUL\n",
        "\n",
        "FULA\n",
        "\n",
        "FULAN\n",
        "\n",
        "FULANO"
      ],
      "metadata": {
        "id": "5RBHEs34qMt_"
      }
    },
    {
      "cell_type": "code",
      "source": [
        "nome = input(\"Nome: \").upper()\n",
        "for x in range(len(nome)+1):\n",
        "  print(nome[0:x])"
      ],
      "metadata": {
        "id": "3iRYcl_fqRSO",
        "colab": {
          "base_uri": "https://localhost:8080/"
        },
        "outputId": "7d7870e6-27e2-4390-962c-aa6db895173c"
      },
      "execution_count": null,
      "outputs": [
        {
          "output_type": "stream",
          "name": "stdout",
          "text": [
            "Nome: Joao Paulo\n",
            "\n",
            "J\n",
            "JO\n",
            "JOA\n",
            "JOAO\n",
            "JOAO \n",
            "JOAO P\n",
            "JOAO PA\n",
            "JOAO PAU\n",
            "JOAO PAUL\n",
            "JOAO PAULO\n"
          ]
        }
      ]
    },
    {
      "cell_type": "markdown",
      "source": [
        "Faça um programa dentro de uma função para imprimir:\n",
        "\n",
        "    1\n",
        "\n",
        "    2   2\n",
        "\n",
        "    3   3   3\n",
        "\n",
        "    .....\n",
        "\n",
        "    n   n   n   n   n   n  ... n\n",
        "\n",
        "para um n informado pelo usuário. Use uma função que receba um valor n inteiro e imprima até a n-ésima linha."
      ],
      "metadata": {
        "id": "8boThBXami4C"
      }
    },
    {
      "cell_type": "code",
      "source": [
        "def sequencia(numero):\n",
        "   for i in range(1,n+1):\n",
        "     for r in range (i):\n",
        "       print(i, end=\" \")\n",
        "     print(\"\")\n",
        "\n",
        "n = int(input(\"digite o valor de n: \"))\n",
        "sequencia(n)"
      ],
      "metadata": {
        "id": "RAM3PyUMtc23",
        "outputId": "1b11bab2-3aed-4c65-88dd-8abc8673cadb",
        "colab": {
          "base_uri": "https://localhost:8080/"
        }
      },
      "execution_count": null,
      "outputs": [
        {
          "output_type": "stream",
          "name": "stdout",
          "text": [
            "digite o valor de n: 5\n",
            "1 \n",
            "2 2 \n",
            "3 3 3 \n",
            "4 4 4 4 \n",
            "5 5 5 5 5 \n"
          ]
        }
      ]
    },
    {
      "cell_type": "code",
      "source": [
        ""
      ],
      "metadata": {
        "id": "NO2Fys-UbL_c"
      },
      "execution_count": null,
      "outputs": []
    },
    {
      "cell_type": "markdown",
      "source": [
        "Faça um programa dentro de uma função para imprimir:\n",
        "\n",
        "    1\n",
        "\n",
        "    1   2\n",
        "\n",
        "    1   2   3\n",
        "\n",
        "    .....\n",
        "\n",
        "    1   2   3   ...  n\n",
        "\n",
        "para um n informado pelo usuário. Use uma função que receba um valor n inteiro imprima até a n-ésima linha."
      ],
      "metadata": {
        "id": "iolyFP4dtdYX"
      }
    },
    {
      "cell_type": "code",
      "source": [
        "def sequencia2(numero):\n",
        "  for i in range(1,n+1):\n",
        "    for r in range (1,i+1):\n",
        "      print(r, end=\" \")  # não quebra linha\n",
        "    print(\"\")               # quebra linha\n",
        "\n",
        "n = int(input(\"digite o valor de n: \"))\n",
        "sequencia2(n)"
      ],
      "metadata": {
        "id": "iFMGwvjJdx9C",
        "outputId": "8c725522-b85c-4fbf-fdb7-9dfb729ea7fa",
        "colab": {
          "base_uri": "https://localhost:8080/"
        }
      },
      "execution_count": null,
      "outputs": [
        {
          "output_type": "stream",
          "name": "stdout",
          "text": [
            "digite o valor de n: 5\n",
            "1 \n",
            "1 2 \n",
            "1 2 3 \n",
            "1 2 3 4 \n",
            "1 2 3 4 5 \n"
          ]
        }
      ]
    },
    {
      "cell_type": "markdown",
      "source": [
        "Faça um programa, com uma função que necessite de três argumentos, e que forneça a soma desses três argumentos."
      ],
      "metadata": {
        "id": "7hjomuo7tiND"
      }
    },
    {
      "cell_type": "code",
      "source": [
        "def  soma (valor1, valor2, valor3):\n",
        "  return valor1+valor2+valor3\n",
        "\n",
        "print(soma(1,2,3))"
      ],
      "metadata": {
        "id": "AIJCXfZqtlHW",
        "outputId": "eb6e1323-78fe-46c7-df90-54071d0341ab",
        "colab": {
          "base_uri": "https://localhost:8080/"
        }
      },
      "execution_count": null,
      "outputs": [
        {
          "output_type": "stream",
          "name": "stdout",
          "text": [
            "6\n"
          ]
        }
      ]
    },
    {
      "cell_type": "markdown",
      "source": [
        "Faça um programa, com uma função que necessite de um argumento. A função retorna o valor de caractere ‘P’, se seu argumento for positivo, e ‘N’, se seu argumento for zero ou negativo."
      ],
      "metadata": {
        "id": "yHkthdjctlZ5"
      }
    },
    {
      "cell_type": "code",
      "source": [
        "def sinal(numero):\n",
        "  if numero > 0:\n",
        "    return \"P\"\n",
        "  else:\n",
        "    return \"N\"\n",
        "\n",
        "n = int(input(\"Digite um número: \"))\n",
        "print(f\"Este número é {sinal(n)}\")\n"
      ],
      "metadata": {
        "id": "sZgGDSJbtoMJ",
        "outputId": "71d22570-dfb1-48c8-d757-580f8996b5f9",
        "colab": {
          "base_uri": "https://localhost:8080/"
        }
      },
      "execution_count": null,
      "outputs": [
        {
          "output_type": "stream",
          "name": "stdout",
          "text": [
            "Digite um número: 10\n",
            "Este número é P\n"
          ]
        }
      ]
    },
    {
      "cell_type": "markdown",
      "source": [
        "Faça um programa com uma função chamada somaImposto. A função possui dois parâmetros formais: taxaImposto, que é a quantia de imposto sobre vendas expressa em porcentagem e custo, que é o custo de um item antes do imposto. A função retorna o valor de custo acrescido do imposto."
      ],
      "metadata": {
        "id": "K_sf9ELmtonL"
      }
    },
    {
      "cell_type": "code",
      "source": [
        "def somaImposto(taxaImposto, custo):\n",
        "    return (1 + taxaImposto/100)*custo\n",
        "\n",
        "imposto = float(input('Digite a taxa de imposto: '))\n",
        "custo = float(input('Digite o custo: '))\n",
        "print(f'Valor com imposto: {somaImposto(imposto,custo)}')"
      ],
      "metadata": {
        "id": "NG9BWwbVtrZK",
        "outputId": "93815da5-cdf9-42b4-817a-107cd2194b37",
        "colab": {
          "base_uri": "https://localhost:8080/"
        }
      },
      "execution_count": null,
      "outputs": [
        {
          "output_type": "stream",
          "name": "stdout",
          "text": [
            "Digite a taxa de imposto: 10\n",
            "Digite o custo: 100\n",
            "Valor com imposto: 110.00000000000001\n"
          ]
        }
      ]
    },
    {
      "cell_type": "markdown",
      "source": [
        "Faça um programa que converta da notação de 24 horas para a notação de 12 horas. Por exemplo, o programa deve converter 14:25 em 2:25 P.M. A entrada é dada em dois inteiros. Deve haver pelo menos duas funções: uma para fazer a conversão e uma para a saída. Registre a informação A.M./P.M. como um valor ‘A’ para A.M. e ‘P’ para P.M. Assim, a função para efetuar as conversões terá um parâmetro formal para registrar se é A.M. ou P.M. Inclua um loop que permita que o usuário repita esse cálculo para novos valores de entrada todas as vezes que desejar."
      ],
      "metadata": {
        "id": "k6mB2dU_trpG"
      }
    },
    {
      "cell_type": "code",
      "source": [
        "def converta(hora, minuto):\n",
        "    if 0 < hora <= 12 and 0 <= minuto < 60:\n",
        "        print(f'{hora}:{minuto} AM')\n",
        "    elif 12 < hora < 24 and 0 < minuto < 60:\n",
        "        print(f'{hora - 12}:{minuto} PM')\n",
        "    else:\n",
        "        print('Valor inválido')\n",
        "\n",
        "while True:                   #condição de saída hora = 999\n",
        "    horario = input(\"Digite o horário (HH:mm): \")\n",
        "    if horario == \"999\": break;\n",
        "    hora = int(horario.split(\":\")[0])\n",
        "    minuto = int(horario.split(\":\")[1])\n",
        "    #hora = = int(input('Hora: '))\n",
        "    #minuto = int(input('Minuto: '))\n",
        "    converta(hora,minuto)\n",
        "    print('='*12)               # imprimir 12 vezes o mesmo caractere ="
      ],
      "metadata": {
        "id": "wwsRVpojtt0Z",
        "colab": {
          "base_uri": "https://localhost:8080/"
        },
        "outputId": "15119e50-f249-4bc4-cb79-ab208fb497ed"
      },
      "execution_count": null,
      "outputs": [
        {
          "name": "stdout",
          "output_type": "stream",
          "text": [
            "Digite o horário (HH:mm): 13:25\n",
            "1:25 PM\n",
            "============\n",
            "Digite o horário (HH:mm): 18:30\n",
            "6:30 PM\n",
            "============\n",
            "Digite o horário (HH:mm): 11:24\n",
            "11:24 AM\n",
            "============\n",
            "Digite o horário (HH:mm): 999\n"
          ]
        }
      ]
    },
    {
      "cell_type": "markdown",
      "source": [
        "Faça um programa que use a função valor_pagamento para determinar o valor a ser pago por uma prestação de uma conta. O programa deverá solicitar ao usuário o valor da prestação e o número de dias em atraso e passar estes valores para a função valorPagamento, que calculará o valor a ser pago e devolverá este valor ao programa que a chamou. O programa deverá então exibir o valor a ser pago na tela. Após a execução o programa deverá voltar a pedir outro valor de prestação e assim continuar até que seja informado um valor igual a zero para a prestação. Neste momento o programa deverá ser encerrado, exibindo o relatório do dia, que conterá a quantidade e o valor total de prestações pagas no dia. O cálculo do valor a ser pago é feito da seguinte forma. Para pagamentos sem atraso, cobrar o valor da prestação. Quando houver atraso, cobrar 3% de multa, mais 0,1% de juros por dia de atraso."
      ],
      "metadata": {
        "id": "A6CWXoCGtuDt"
      }
    },
    {
      "cell_type": "code",
      "source": [
        "def valor_pagamento(valorPrestacao, diasAtraso):\n",
        "  if diasAtraso<=0:\n",
        "    multa = 0\n",
        "  else:\n",
        "    multa = 3/100+ (0.1/100)*diasAtraso\n",
        "  return valorPrestacao*(1+multa)\n",
        "\n",
        "texto = \"\"\n",
        "qtde = 0\n",
        "totalPagamento = 0\n",
        "while True:\n",
        "  valorPrestacao = float(input(\"Valor da prestação: \"))\n",
        "  if valorPrestacao == 0: break;\n",
        "  qtde += 1\n",
        "  diasAtraso = int(input(\"Dias de atraso: \"))\n",
        "  totalPagamento += valor_pagamento(valorPrestacao,diasAtraso)\n",
        "  texto += f\"Prestação de R$ {valorPrestacao}, com {diasAtraso} dias de atraso ficou em R$ {str(valor_pagamento(valorPrestacao,diasAtraso))}\\n\"\n",
        "\n",
        "print(texto)\n",
        "print(f\"Qtde de pagamentos realizados: {qtde}\")\n",
        "print(f\"Valor total dos pagamentos: {totalPagamento}\")"
      ],
      "metadata": {
        "id": "Gg7L2APvtzKP",
        "colab": {
          "base_uri": "https://localhost:8080/"
        },
        "outputId": "e5d508a5-316f-4015-bc64-78b9cb6fecdd"
      },
      "execution_count": null,
      "outputs": [
        {
          "output_type": "stream",
          "name": "stdout",
          "text": [
            "Valor da prestação: 100\n",
            "Dias de atraso: 0\n",
            "Valor da prestação: 0\n",
            "Prestação de R$ 100.0, com 0 dias de atraso ficou em R$ 100.0\n",
            "\n",
            "Qtde de pagamentos realizados: 1\n",
            "Valor total dos pagamentos: 100.0\n"
          ]
        }
      ]
    },
    {
      "cell_type": "markdown",
      "source": [
        "Dada uma lista LISTA1 com 50 números aleatórios (de 0 a 50), criar uma lista LISTA2 com apenas os valores pares de LISTA1. Ao final o programa deverá apresentar os elementos de LISTA1 e LISTA2 para conferência."
      ],
      "metadata": {
        "id": "SsMGxqcnPgbF"
      }
    },
    {
      "cell_type": "code",
      "source": [
        "import random\n",
        "\n",
        "lista1 = []\n",
        "for x in range(50):\n",
        "  numero_aleatorio = random.randrange(0,51)\n",
        "  lista1.append(numero_aleatorio)         # lista1+=numero_aleatorio\n",
        "\n",
        "lista2 = []\n",
        "for numero in lista1:\n",
        "  if numero%2 == 0:       # se o resto da divisão por 2 for zero o número é par\n",
        "    lista2.append(numero)\n",
        "\n",
        "print (lista1)\n",
        "print (lista2)"
      ],
      "metadata": {
        "id": "NuBPnAC5PqXw",
        "colab": {
          "base_uri": "https://localhost:8080/"
        },
        "outputId": "7ee77f73-d48c-4f3a-a416-9d539adf43bd"
      },
      "execution_count": null,
      "outputs": [
        {
          "output_type": "stream",
          "name": "stdout",
          "text": [
            "[45, 34, 47, 8, 6, 13, 43, 20, 41, 31, 20, 6, 14, 36, 44, 15, 19, 35, 7, 32, 36, 23, 29, 4, 9, 36, 38, 41, 30, 35, 27, 41, 37, 40, 17, 44, 21, 39, 46, 12, 38, 0, 27, 7, 26, 17, 32, 20, 37, 15]\n",
            "[34, 8, 6, 20, 20, 6, 14, 36, 44, 32, 36, 4, 36, 38, 30, 40, 44, 46, 12, 38, 0, 26, 32, 20]\n"
          ]
        }
      ]
    },
    {
      "cell_type": "markdown",
      "source": [
        "Dada uma lista LISTA1 com 50 números aleatórios (de 0 a 50), criar uma lista LISTA2 com os valores de LISTA1 nas posições pares de LISTA2. Ao final o programa deverá apresentar os elementos de LISTA1 e os elementos de todas as posições de LISTA2 para conferência."
      ],
      "metadata": {
        "id": "tH9h1_rAPqyL"
      }
    },
    {
      "cell_type": "code",
      "source": [
        "import random\n",
        "\n",
        "lista1 = []\n",
        "for x in range(50):\n",
        "  numero_aleatorio = random.randrange(0,51)\n",
        "  lista1.append(numero_aleatorio)         # lista1+=numero_aleatorio\n",
        "\n",
        "lista2 = []\n",
        "for numero in lista1:\n",
        "  lista2.append(numero)     # insere o número na posição par\n",
        "  lista2.append(None)         # insere vazio na posição ímpar\n",
        "\n",
        "print(lista1)\n",
        "print(lista2)"
      ],
      "metadata": {
        "id": "0CH9eZJcPu36",
        "colab": {
          "base_uri": "https://localhost:8080/"
        },
        "outputId": "b4b946de-6d7d-4a61-b2f9-3ae153dfc459"
      },
      "execution_count": null,
      "outputs": [
        {
          "output_type": "stream",
          "name": "stdout",
          "text": [
            "[47, 19, 44, 0, 8, 40, 8, 35, 2, 33, 18, 15, 47, 7, 5, 23, 30, 1, 38, 31, 49, 45, 38, 43, 2, 31, 49, 39, 15, 42, 9, 44, 28, 46, 50, 17, 18, 36, 29, 0, 30, 41, 47, 41, 28, 38, 31, 18, 36, 42]\n",
            "[47, None, 19, None, 44, None, 0, None, 8, None, 40, None, 8, None, 35, None, 2, None, 33, None, 18, None, 15, None, 47, None, 7, None, 5, None, 23, None, 30, None, 1, None, 38, None, 31, None, 49, None, 45, None, 38, None, 43, None, 2, None, 31, None, 49, None, 39, None, 15, None, 42, None, 9, None, 44, None, 28, None, 46, None, 50, None, 17, None, 18, None, 36, None, 29, None, 0, None, 30, None, 41, None, 47, None, 41, None, 28, None, 38, None, 31, None, 18, None, 36, None, 42, None]\n"
          ]
        }
      ]
    },
    {
      "cell_type": "markdown",
      "source": [
        "\n",
        "Dada uma lista com 50 números aleatórios (de 0 a 9), apresentar ao final do programa  o número que mais se repetiu e o número que menos se repetiu (caso um número não tenha aparecido, este deve ser o que menos se repetiu)."
      ],
      "metadata": {
        "id": "16QTq4XpPvpj"
      }
    },
    {
      "cell_type": "code",
      "source": [
        "import logging\n",
        "import random\n",
        "\n",
        "logging.basicConfig(level=logging.DEBUG, format='%(levelname)s - %(message)s')\n",
        "\n",
        "numeros = []\n",
        "logging.debug(f\"numeros[]: {numeros}\")\n",
        "logging.info(\"Criando 50 números aleatórios\")\n",
        "for x in range(50):\n",
        "  logging.debug(f\"x: {x}\")\n",
        "  numeros.append(random.randrange(0,10))  # adicionando 50 números de 0-9 \n",
        "  logging.debug(f\"numeros[]: {numeros}\")\n",
        "\n",
        "numero = []                       # lista que guarda a qtde de repetições de cada número\n",
        "logging.info(\"Verificando a qtde de repetições de cada número\")\n",
        "logging.debug(f\"numero[]: {numero}\")\n",
        "for n in range(10):               # percorrendo os 10 números (0-9)\n",
        "  logging.debug(f\"n: {n}\")\n",
        "  logging.debug(f\"count({n}): {numeros.count(n)}\")\n",
        "  numero.append(numeros.count(n)) # contando as repetições de cada número (0-9)\n",
        "  logging.debug(f\"numero[]: {numero}\")\n",
        "\n",
        "print(f\"50 números aleatórios: {numeros}\")\n",
        "print(f\"Qtde de repetições de cada número:{numero}\")\n",
        "\n",
        "qtdeMaiorRepeticao = -1\n",
        "logging.debug(f\"qtdeMaiorRepeticao: {qtdeMaiorRepeticao}\")\n",
        "qtdeMenorRepeticao = 1000000\n",
        "logging.debug(f\"qtdeMenorRepeticao: {qtdeMenorRepeticao}\")\n",
        "\n",
        "logging.info(\"Descobrindo a menor e a maior repetição\")\n",
        "for n in numero:\n",
        "  logging.debug(f\"n: {n}\")\n",
        "  logging.debug(f\"qtdeMenorRepeticao: {qtdeMenorRepeticao}\")\n",
        "  logging.debug(f\"qtdeMaiorRepeticao: {qtdeMaiorRepeticao}\")\n",
        "\n",
        "  if n > qtdeMaiorRepeticao:\n",
        "    qtdeMaiorRepeticao = n \n",
        "  if n < qtdeMenorRepeticao:\n",
        "    qtdeMenorRepeticao = n\n",
        "\n",
        "print(f\"Número que mais se repetiu: {numero.index(qtdeMaiorRepeticao)}\")\n",
        "print(f\"Número que menos se repetiu: {numero.index(qtdeMenorRepeticao)}\")\n"
      ],
      "metadata": {
        "id": "htbZlL1RP2HE",
        "colab": {
          "base_uri": "https://localhost:8080/"
        },
        "outputId": "225c741e-f984-4055-b6b6-be31bee4e1ff"
      },
      "execution_count": null,
      "outputs": [
        {
          "output_type": "stream",
          "name": "stderr",
          "text": [
            "DEBUG - numeros[]: []\n",
            "INFO - Criando 50 números aleatórios\n",
            "DEBUG - x: 0\n",
            "DEBUG - numeros[]: [5]\n",
            "DEBUG - x: 1\n",
            "DEBUG - numeros[]: [5, 9]\n",
            "DEBUG - x: 2\n",
            "DEBUG - numeros[]: [5, 9, 8]\n",
            "DEBUG - x: 3\n",
            "DEBUG - numeros[]: [5, 9, 8, 4]\n",
            "DEBUG - x: 4\n",
            "DEBUG - numeros[]: [5, 9, 8, 4, 9]\n",
            "DEBUG - x: 5\n",
            "DEBUG - numeros[]: [5, 9, 8, 4, 9, 5]\n",
            "DEBUG - x: 6\n",
            "DEBUG - numeros[]: [5, 9, 8, 4, 9, 5, 9]\n",
            "DEBUG - x: 7\n",
            "DEBUG - numeros[]: [5, 9, 8, 4, 9, 5, 9, 3]\n",
            "DEBUG - x: 8\n",
            "DEBUG - numeros[]: [5, 9, 8, 4, 9, 5, 9, 3, 4]\n",
            "DEBUG - x: 9\n",
            "DEBUG - numeros[]: [5, 9, 8, 4, 9, 5, 9, 3, 4, 1]\n",
            "DEBUG - x: 10\n",
            "DEBUG - numeros[]: [5, 9, 8, 4, 9, 5, 9, 3, 4, 1, 4]\n",
            "DEBUG - x: 11\n",
            "DEBUG - numeros[]: [5, 9, 8, 4, 9, 5, 9, 3, 4, 1, 4, 3]\n",
            "DEBUG - x: 12\n",
            "DEBUG - numeros[]: [5, 9, 8, 4, 9, 5, 9, 3, 4, 1, 4, 3, 5]\n",
            "DEBUG - x: 13\n",
            "DEBUG - numeros[]: [5, 9, 8, 4, 9, 5, 9, 3, 4, 1, 4, 3, 5, 4]\n",
            "DEBUG - x: 14\n",
            "DEBUG - numeros[]: [5, 9, 8, 4, 9, 5, 9, 3, 4, 1, 4, 3, 5, 4, 1]\n",
            "DEBUG - x: 15\n",
            "DEBUG - numeros[]: [5, 9, 8, 4, 9, 5, 9, 3, 4, 1, 4, 3, 5, 4, 1, 9]\n",
            "DEBUG - x: 16\n",
            "DEBUG - numeros[]: [5, 9, 8, 4, 9, 5, 9, 3, 4, 1, 4, 3, 5, 4, 1, 9, 5]\n",
            "DEBUG - x: 17\n",
            "DEBUG - numeros[]: [5, 9, 8, 4, 9, 5, 9, 3, 4, 1, 4, 3, 5, 4, 1, 9, 5, 2]\n",
            "DEBUG - x: 18\n",
            "DEBUG - numeros[]: [5, 9, 8, 4, 9, 5, 9, 3, 4, 1, 4, 3, 5, 4, 1, 9, 5, 2, 9]\n",
            "DEBUG - x: 19\n",
            "DEBUG - numeros[]: [5, 9, 8, 4, 9, 5, 9, 3, 4, 1, 4, 3, 5, 4, 1, 9, 5, 2, 9, 6]\n",
            "DEBUG - x: 20\n",
            "DEBUG - numeros[]: [5, 9, 8, 4, 9, 5, 9, 3, 4, 1, 4, 3, 5, 4, 1, 9, 5, 2, 9, 6, 6]\n",
            "DEBUG - x: 21\n",
            "DEBUG - numeros[]: [5, 9, 8, 4, 9, 5, 9, 3, 4, 1, 4, 3, 5, 4, 1, 9, 5, 2, 9, 6, 6, 7]\n",
            "DEBUG - x: 22\n",
            "DEBUG - numeros[]: [5, 9, 8, 4, 9, 5, 9, 3, 4, 1, 4, 3, 5, 4, 1, 9, 5, 2, 9, 6, 6, 7, 3]\n",
            "DEBUG - x: 23\n",
            "DEBUG - numeros[]: [5, 9, 8, 4, 9, 5, 9, 3, 4, 1, 4, 3, 5, 4, 1, 9, 5, 2, 9, 6, 6, 7, 3, 3]\n",
            "DEBUG - x: 24\n",
            "DEBUG - numeros[]: [5, 9, 8, 4, 9, 5, 9, 3, 4, 1, 4, 3, 5, 4, 1, 9, 5, 2, 9, 6, 6, 7, 3, 3, 6]\n",
            "DEBUG - x: 25\n",
            "DEBUG - numeros[]: [5, 9, 8, 4, 9, 5, 9, 3, 4, 1, 4, 3, 5, 4, 1, 9, 5, 2, 9, 6, 6, 7, 3, 3, 6, 5]\n",
            "DEBUG - x: 26\n",
            "DEBUG - numeros[]: [5, 9, 8, 4, 9, 5, 9, 3, 4, 1, 4, 3, 5, 4, 1, 9, 5, 2, 9, 6, 6, 7, 3, 3, 6, 5, 8]\n",
            "DEBUG - x: 27\n",
            "DEBUG - numeros[]: [5, 9, 8, 4, 9, 5, 9, 3, 4, 1, 4, 3, 5, 4, 1, 9, 5, 2, 9, 6, 6, 7, 3, 3, 6, 5, 8, 8]\n",
            "DEBUG - x: 28\n",
            "DEBUG - numeros[]: [5, 9, 8, 4, 9, 5, 9, 3, 4, 1, 4, 3, 5, 4, 1, 9, 5, 2, 9, 6, 6, 7, 3, 3, 6, 5, 8, 8, 2]\n",
            "DEBUG - x: 29\n",
            "DEBUG - numeros[]: [5, 9, 8, 4, 9, 5, 9, 3, 4, 1, 4, 3, 5, 4, 1, 9, 5, 2, 9, 6, 6, 7, 3, 3, 6, 5, 8, 8, 2, 4]\n",
            "DEBUG - x: 30\n",
            "DEBUG - numeros[]: [5, 9, 8, 4, 9, 5, 9, 3, 4, 1, 4, 3, 5, 4, 1, 9, 5, 2, 9, 6, 6, 7, 3, 3, 6, 5, 8, 8, 2, 4, 2]\n",
            "DEBUG - x: 31\n",
            "DEBUG - numeros[]: [5, 9, 8, 4, 9, 5, 9, 3, 4, 1, 4, 3, 5, 4, 1, 9, 5, 2, 9, 6, 6, 7, 3, 3, 6, 5, 8, 8, 2, 4, 2, 5]\n",
            "DEBUG - x: 32\n",
            "DEBUG - numeros[]: [5, 9, 8, 4, 9, 5, 9, 3, 4, 1, 4, 3, 5, 4, 1, 9, 5, 2, 9, 6, 6, 7, 3, 3, 6, 5, 8, 8, 2, 4, 2, 5, 6]\n",
            "DEBUG - x: 33\n",
            "DEBUG - numeros[]: [5, 9, 8, 4, 9, 5, 9, 3, 4, 1, 4, 3, 5, 4, 1, 9, 5, 2, 9, 6, 6, 7, 3, 3, 6, 5, 8, 8, 2, 4, 2, 5, 6, 8]\n",
            "DEBUG - x: 34\n",
            "DEBUG - numeros[]: [5, 9, 8, 4, 9, 5, 9, 3, 4, 1, 4, 3, 5, 4, 1, 9, 5, 2, 9, 6, 6, 7, 3, 3, 6, 5, 8, 8, 2, 4, 2, 5, 6, 8, 7]\n",
            "DEBUG - x: 35\n",
            "DEBUG - numeros[]: [5, 9, 8, 4, 9, 5, 9, 3, 4, 1, 4, 3, 5, 4, 1, 9, 5, 2, 9, 6, 6, 7, 3, 3, 6, 5, 8, 8, 2, 4, 2, 5, 6, 8, 7, 0]\n",
            "DEBUG - x: 36\n",
            "DEBUG - numeros[]: [5, 9, 8, 4, 9, 5, 9, 3, 4, 1, 4, 3, 5, 4, 1, 9, 5, 2, 9, 6, 6, 7, 3, 3, 6, 5, 8, 8, 2, 4, 2, 5, 6, 8, 7, 0, 0]\n",
            "DEBUG - x: 37\n",
            "DEBUG - numeros[]: [5, 9, 8, 4, 9, 5, 9, 3, 4, 1, 4, 3, 5, 4, 1, 9, 5, 2, 9, 6, 6, 7, 3, 3, 6, 5, 8, 8, 2, 4, 2, 5, 6, 8, 7, 0, 0, 7]\n",
            "DEBUG - x: 38\n",
            "DEBUG - numeros[]: [5, 9, 8, 4, 9, 5, 9, 3, 4, 1, 4, 3, 5, 4, 1, 9, 5, 2, 9, 6, 6, 7, 3, 3, 6, 5, 8, 8, 2, 4, 2, 5, 6, 8, 7, 0, 0, 7, 3]\n",
            "DEBUG - x: 39\n",
            "DEBUG - numeros[]: [5, 9, 8, 4, 9, 5, 9, 3, 4, 1, 4, 3, 5, 4, 1, 9, 5, 2, 9, 6, 6, 7, 3, 3, 6, 5, 8, 8, 2, 4, 2, 5, 6, 8, 7, 0, 0, 7, 3, 8]\n",
            "DEBUG - x: 40\n",
            "DEBUG - numeros[]: [5, 9, 8, 4, 9, 5, 9, 3, 4, 1, 4, 3, 5, 4, 1, 9, 5, 2, 9, 6, 6, 7, 3, 3, 6, 5, 8, 8, 2, 4, 2, 5, 6, 8, 7, 0, 0, 7, 3, 8, 7]\n",
            "DEBUG - x: 41\n",
            "DEBUG - numeros[]: [5, 9, 8, 4, 9, 5, 9, 3, 4, 1, 4, 3, 5, 4, 1, 9, 5, 2, 9, 6, 6, 7, 3, 3, 6, 5, 8, 8, 2, 4, 2, 5, 6, 8, 7, 0, 0, 7, 3, 8, 7, 4]\n",
            "DEBUG - x: 42\n",
            "DEBUG - numeros[]: [5, 9, 8, 4, 9, 5, 9, 3, 4, 1, 4, 3, 5, 4, 1, 9, 5, 2, 9, 6, 6, 7, 3, 3, 6, 5, 8, 8, 2, 4, 2, 5, 6, 8, 7, 0, 0, 7, 3, 8, 7, 4, 4]\n",
            "DEBUG - x: 43\n",
            "DEBUG - numeros[]: [5, 9, 8, 4, 9, 5, 9, 3, 4, 1, 4, 3, 5, 4, 1, 9, 5, 2, 9, 6, 6, 7, 3, 3, 6, 5, 8, 8, 2, 4, 2, 5, 6, 8, 7, 0, 0, 7, 3, 8, 7, 4, 4, 5]\n",
            "DEBUG - x: 44\n",
            "DEBUG - numeros[]: [5, 9, 8, 4, 9, 5, 9, 3, 4, 1, 4, 3, 5, 4, 1, 9, 5, 2, 9, 6, 6, 7, 3, 3, 6, 5, 8, 8, 2, 4, 2, 5, 6, 8, 7, 0, 0, 7, 3, 8, 7, 4, 4, 5, 9]\n",
            "DEBUG - x: 45\n",
            "DEBUG - numeros[]: [5, 9, 8, 4, 9, 5, 9, 3, 4, 1, 4, 3, 5, 4, 1, 9, 5, 2, 9, 6, 6, 7, 3, 3, 6, 5, 8, 8, 2, 4, 2, 5, 6, 8, 7, 0, 0, 7, 3, 8, 7, 4, 4, 5, 9, 1]\n",
            "DEBUG - x: 46\n",
            "DEBUG - numeros[]: [5, 9, 8, 4, 9, 5, 9, 3, 4, 1, 4, 3, 5, 4, 1, 9, 5, 2, 9, 6, 6, 7, 3, 3, 6, 5, 8, 8, 2, 4, 2, 5, 6, 8, 7, 0, 0, 7, 3, 8, 7, 4, 4, 5, 9, 1, 3]\n",
            "DEBUG - x: 47\n",
            "DEBUG - numeros[]: [5, 9, 8, 4, 9, 5, 9, 3, 4, 1, 4, 3, 5, 4, 1, 9, 5, 2, 9, 6, 6, 7, 3, 3, 6, 5, 8, 8, 2, 4, 2, 5, 6, 8, 7, 0, 0, 7, 3, 8, 7, 4, 4, 5, 9, 1, 3, 4]\n",
            "DEBUG - x: 48\n",
            "DEBUG - numeros[]: [5, 9, 8, 4, 9, 5, 9, 3, 4, 1, 4, 3, 5, 4, 1, 9, 5, 2, 9, 6, 6, 7, 3, 3, 6, 5, 8, 8, 2, 4, 2, 5, 6, 8, 7, 0, 0, 7, 3, 8, 7, 4, 4, 5, 9, 1, 3, 4, 7]\n",
            "DEBUG - x: 49\n",
            "DEBUG - numeros[]: [5, 9, 8, 4, 9, 5, 9, 3, 4, 1, 4, 3, 5, 4, 1, 9, 5, 2, 9, 6, 6, 7, 3, 3, 6, 5, 8, 8, 2, 4, 2, 5, 6, 8, 7, 0, 0, 7, 3, 8, 7, 4, 4, 5, 9, 1, 3, 4, 7, 9]\n",
            "INFO - Verificando a qtde de repetições de cada número\n",
            "DEBUG - numero[]: []\n",
            "DEBUG - n: 0\n",
            "DEBUG - count(0): 2\n",
            "DEBUG - numero[]: [2]\n",
            "DEBUG - n: 1\n",
            "DEBUG - count(1): 3\n",
            "DEBUG - numero[]: [2, 3]\n",
            "DEBUG - n: 2\n",
            "DEBUG - count(2): 3\n",
            "DEBUG - numero[]: [2, 3, 3]\n",
            "DEBUG - n: 3\n",
            "DEBUG - count(3): 6\n",
            "DEBUG - numero[]: [2, 3, 3, 6]\n",
            "DEBUG - n: 4\n",
            "DEBUG - count(4): 8\n",
            "DEBUG - numero[]: [2, 3, 3, 6, 8]\n",
            "DEBUG - n: 5\n",
            "DEBUG - count(5): 7\n",
            "DEBUG - numero[]: [2, 3, 3, 6, 8, 7]\n",
            "DEBUG - n: 6\n",
            "DEBUG - count(6): 4\n",
            "DEBUG - numero[]: [2, 3, 3, 6, 8, 7, 4]\n",
            "DEBUG - n: 7\n",
            "DEBUG - count(7): 5\n",
            "DEBUG - numero[]: [2, 3, 3, 6, 8, 7, 4, 5]\n",
            "DEBUG - n: 8\n",
            "DEBUG - count(8): 5\n",
            "DEBUG - numero[]: [2, 3, 3, 6, 8, 7, 4, 5, 5]\n",
            "DEBUG - n: 9\n",
            "DEBUG - count(9): 7\n",
            "DEBUG - numero[]: [2, 3, 3, 6, 8, 7, 4, 5, 5, 7]\n",
            "DEBUG - qtdeMaiorRepeticao: -1\n",
            "DEBUG - qtdeMenorRepeticao: 1000000\n",
            "INFO - Descobrindo a menor e a maior repetição\n",
            "DEBUG - n: 2\n",
            "DEBUG - qtdeMenorRepeticao: 1000000\n",
            "DEBUG - qtdeMaiorRepeticao: -1\n",
            "DEBUG - n: 3\n",
            "DEBUG - qtdeMenorRepeticao: 2\n",
            "DEBUG - qtdeMaiorRepeticao: 2\n",
            "DEBUG - n: 3\n",
            "DEBUG - qtdeMenorRepeticao: 2\n",
            "DEBUG - qtdeMaiorRepeticao: 3\n",
            "DEBUG - n: 6\n",
            "DEBUG - qtdeMenorRepeticao: 2\n",
            "DEBUG - qtdeMaiorRepeticao: 3\n",
            "DEBUG - n: 8\n",
            "DEBUG - qtdeMenorRepeticao: 2\n",
            "DEBUG - qtdeMaiorRepeticao: 6\n",
            "DEBUG - n: 7\n",
            "DEBUG - qtdeMenorRepeticao: 2\n",
            "DEBUG - qtdeMaiorRepeticao: 8\n",
            "DEBUG - n: 4\n",
            "DEBUG - qtdeMenorRepeticao: 2\n",
            "DEBUG - qtdeMaiorRepeticao: 8\n",
            "DEBUG - n: 5\n",
            "DEBUG - qtdeMenorRepeticao: 2\n",
            "DEBUG - qtdeMaiorRepeticao: 8\n",
            "DEBUG - n: 5\n",
            "DEBUG - qtdeMenorRepeticao: 2\n",
            "DEBUG - qtdeMaiorRepeticao: 8\n",
            "DEBUG - n: 7\n",
            "DEBUG - qtdeMenorRepeticao: 2\n",
            "DEBUG - qtdeMaiorRepeticao: 8\n",
            "DEBUG - Loaded backend module://ipykernel.pylab.backend_inline version unknown.\n"
          ]
        },
        {
          "output_type": "stream",
          "name": "stdout",
          "text": [
            "50 números aleatórios: [5, 9, 8, 4, 9, 5, 9, 3, 4, 1, 4, 3, 5, 4, 1, 9, 5, 2, 9, 6, 6, 7, 3, 3, 6, 5, 8, 8, 2, 4, 2, 5, 6, 8, 7, 0, 0, 7, 3, 8, 7, 4, 4, 5, 9, 1, 3, 4, 7, 9]\n",
            "Qtde de repetições de cada número:[2, 3, 3, 6, 8, 7, 4, 5, 5, 7]\n",
            "Número que mais se repetiu: 4\n",
            "Número que menos se repetiu: 0\n"
          ]
        }
      ]
    },
    {
      "cell_type": "markdown",
      "source": [
        "Dada uma lista com 50 números aleatórios (de 0 a 20), criar um dicionário com a contagem de cada elemento da lista. Ao final o programa deverá apresentar os elementos da lista e o dicionário (chaves e valores) para conferência."
      ],
      "metadata": {
        "id": "6ACuIsY7P2y0"
      }
    },
    {
      "cell_type": "code",
      "source": [
        "import logging\n",
        "import random\n",
        "\n",
        "logging.basicConfig(level=logging.DEBUG, format='%(levelname)s - %(message)s')\n",
        "\n",
        "numeros = []\n",
        "logging.debug(f\"numeros[]: {numeros}\")\n",
        "logging.info(\"Criando 50 números aleatórios\")\n",
        "for x in range(50):\n",
        "  logging.debug(f\"x: {x}\")\n",
        "  numeros.append(random.randrange(0,21))  # adicionando 50 números de 0-9 \n",
        "  logging.debug(f\"numeros[]: {numeros}\")\n",
        "\n",
        "numero = {}                      # dicionário que guarda a qtde de repetições de cada número\n",
        "logging.info(\"Verificando a qtde de repetições de cada número\")\n",
        "logging.debug(f\"numero{{}}: {numero}\")\n",
        "for n in range(21):               # percorrendo os 10 números (0-9)\n",
        "  logging.debug(f\"n: {n}\")\n",
        "  logging.debug(f\"count({n}): {numeros.count(n)}\")\n",
        "  numero[n] = numeros.count(n) # contando as repetições de cada número (0-9)\n",
        "  logging.debug(f\"numero{{}}: {numero}\")\n",
        "\n",
        "print(f\"50 números aleatórios: {numeros}\")\n",
        "print(f\"Qtde de repetições de cada número:{numero}\")"
      ],
      "metadata": {
        "id": "-Eiys9FeP6NP",
        "colab": {
          "base_uri": "https://localhost:8080/"
        },
        "outputId": "3da9a085-3644-4283-f969-7c45a7c2c01d"
      },
      "execution_count": null,
      "outputs": [
        {
          "output_type": "stream",
          "name": "stderr",
          "text": [
            "DEBUG - numeros[]: []\n",
            "INFO - Criando 50 números aleatórios\n",
            "DEBUG - x: 0\n",
            "DEBUG - numeros[]: [4]\n",
            "DEBUG - x: 1\n",
            "DEBUG - numeros[]: [4, 5]\n",
            "DEBUG - x: 2\n",
            "DEBUG - numeros[]: [4, 5, 6]\n",
            "DEBUG - x: 3\n",
            "DEBUG - numeros[]: [4, 5, 6, 3]\n",
            "DEBUG - x: 4\n",
            "DEBUG - numeros[]: [4, 5, 6, 3, 4]\n",
            "DEBUG - x: 5\n",
            "DEBUG - numeros[]: [4, 5, 6, 3, 4, 12]\n",
            "DEBUG - x: 6\n",
            "DEBUG - numeros[]: [4, 5, 6, 3, 4, 12, 18]\n",
            "DEBUG - x: 7\n",
            "DEBUG - numeros[]: [4, 5, 6, 3, 4, 12, 18, 9]\n",
            "DEBUG - x: 8\n",
            "DEBUG - numeros[]: [4, 5, 6, 3, 4, 12, 18, 9, 3]\n",
            "DEBUG - x: 9\n",
            "DEBUG - numeros[]: [4, 5, 6, 3, 4, 12, 18, 9, 3, 16]\n",
            "DEBUG - x: 10\n",
            "DEBUG - numeros[]: [4, 5, 6, 3, 4, 12, 18, 9, 3, 16, 9]\n",
            "DEBUG - x: 11\n",
            "DEBUG - numeros[]: [4, 5, 6, 3, 4, 12, 18, 9, 3, 16, 9, 13]\n",
            "DEBUG - x: 12\n",
            "DEBUG - numeros[]: [4, 5, 6, 3, 4, 12, 18, 9, 3, 16, 9, 13, 19]\n",
            "DEBUG - x: 13\n",
            "DEBUG - numeros[]: [4, 5, 6, 3, 4, 12, 18, 9, 3, 16, 9, 13, 19, 7]\n",
            "DEBUG - x: 14\n",
            "DEBUG - numeros[]: [4, 5, 6, 3, 4, 12, 18, 9, 3, 16, 9, 13, 19, 7, 14]\n",
            "DEBUG - x: 15\n",
            "DEBUG - numeros[]: [4, 5, 6, 3, 4, 12, 18, 9, 3, 16, 9, 13, 19, 7, 14, 20]\n",
            "DEBUG - x: 16\n",
            "DEBUG - numeros[]: [4, 5, 6, 3, 4, 12, 18, 9, 3, 16, 9, 13, 19, 7, 14, 20, 8]\n",
            "DEBUG - x: 17\n",
            "DEBUG - numeros[]: [4, 5, 6, 3, 4, 12, 18, 9, 3, 16, 9, 13, 19, 7, 14, 20, 8, 3]\n",
            "DEBUG - x: 18\n",
            "DEBUG - numeros[]: [4, 5, 6, 3, 4, 12, 18, 9, 3, 16, 9, 13, 19, 7, 14, 20, 8, 3, 2]\n",
            "DEBUG - x: 19\n",
            "DEBUG - numeros[]: [4, 5, 6, 3, 4, 12, 18, 9, 3, 16, 9, 13, 19, 7, 14, 20, 8, 3, 2, 19]\n",
            "DEBUG - x: 20\n",
            "DEBUG - numeros[]: [4, 5, 6, 3, 4, 12, 18, 9, 3, 16, 9, 13, 19, 7, 14, 20, 8, 3, 2, 19, 10]\n",
            "DEBUG - x: 21\n",
            "DEBUG - numeros[]: [4, 5, 6, 3, 4, 12, 18, 9, 3, 16, 9, 13, 19, 7, 14, 20, 8, 3, 2, 19, 10, 12]\n",
            "DEBUG - x: 22\n",
            "DEBUG - numeros[]: [4, 5, 6, 3, 4, 12, 18, 9, 3, 16, 9, 13, 19, 7, 14, 20, 8, 3, 2, 19, 10, 12, 13]\n",
            "DEBUG - x: 23\n",
            "DEBUG - numeros[]: [4, 5, 6, 3, 4, 12, 18, 9, 3, 16, 9, 13, 19, 7, 14, 20, 8, 3, 2, 19, 10, 12, 13, 5]\n",
            "DEBUG - x: 24\n",
            "DEBUG - numeros[]: [4, 5, 6, 3, 4, 12, 18, 9, 3, 16, 9, 13, 19, 7, 14, 20, 8, 3, 2, 19, 10, 12, 13, 5, 18]\n",
            "DEBUG - x: 25\n",
            "DEBUG - numeros[]: [4, 5, 6, 3, 4, 12, 18, 9, 3, 16, 9, 13, 19, 7, 14, 20, 8, 3, 2, 19, 10, 12, 13, 5, 18, 4]\n",
            "DEBUG - x: 26\n",
            "DEBUG - numeros[]: [4, 5, 6, 3, 4, 12, 18, 9, 3, 16, 9, 13, 19, 7, 14, 20, 8, 3, 2, 19, 10, 12, 13, 5, 18, 4, 5]\n",
            "DEBUG - x: 27\n",
            "DEBUG - numeros[]: [4, 5, 6, 3, 4, 12, 18, 9, 3, 16, 9, 13, 19, 7, 14, 20, 8, 3, 2, 19, 10, 12, 13, 5, 18, 4, 5, 11]\n",
            "DEBUG - x: 28\n",
            "DEBUG - numeros[]: [4, 5, 6, 3, 4, 12, 18, 9, 3, 16, 9, 13, 19, 7, 14, 20, 8, 3, 2, 19, 10, 12, 13, 5, 18, 4, 5, 11, 12]\n",
            "DEBUG - x: 29\n",
            "DEBUG - numeros[]: [4, 5, 6, 3, 4, 12, 18, 9, 3, 16, 9, 13, 19, 7, 14, 20, 8, 3, 2, 19, 10, 12, 13, 5, 18, 4, 5, 11, 12, 17]\n",
            "DEBUG - x: 30\n",
            "DEBUG - numeros[]: [4, 5, 6, 3, 4, 12, 18, 9, 3, 16, 9, 13, 19, 7, 14, 20, 8, 3, 2, 19, 10, 12, 13, 5, 18, 4, 5, 11, 12, 17, 9]\n",
            "DEBUG - x: 31\n",
            "DEBUG - numeros[]: [4, 5, 6, 3, 4, 12, 18, 9, 3, 16, 9, 13, 19, 7, 14, 20, 8, 3, 2, 19, 10, 12, 13, 5, 18, 4, 5, 11, 12, 17, 9, 19]\n",
            "DEBUG - x: 32\n",
            "DEBUG - numeros[]: [4, 5, 6, 3, 4, 12, 18, 9, 3, 16, 9, 13, 19, 7, 14, 20, 8, 3, 2, 19, 10, 12, 13, 5, 18, 4, 5, 11, 12, 17, 9, 19, 4]\n",
            "DEBUG - x: 33\n",
            "DEBUG - numeros[]: [4, 5, 6, 3, 4, 12, 18, 9, 3, 16, 9, 13, 19, 7, 14, 20, 8, 3, 2, 19, 10, 12, 13, 5, 18, 4, 5, 11, 12, 17, 9, 19, 4, 1]\n",
            "DEBUG - x: 34\n",
            "DEBUG - numeros[]: [4, 5, 6, 3, 4, 12, 18, 9, 3, 16, 9, 13, 19, 7, 14, 20, 8, 3, 2, 19, 10, 12, 13, 5, 18, 4, 5, 11, 12, 17, 9, 19, 4, 1, 15]\n",
            "DEBUG - x: 35\n",
            "DEBUG - numeros[]: [4, 5, 6, 3, 4, 12, 18, 9, 3, 16, 9, 13, 19, 7, 14, 20, 8, 3, 2, 19, 10, 12, 13, 5, 18, 4, 5, 11, 12, 17, 9, 19, 4, 1, 15, 3]\n",
            "DEBUG - x: 36\n",
            "DEBUG - numeros[]: [4, 5, 6, 3, 4, 12, 18, 9, 3, 16, 9, 13, 19, 7, 14, 20, 8, 3, 2, 19, 10, 12, 13, 5, 18, 4, 5, 11, 12, 17, 9, 19, 4, 1, 15, 3, 13]\n",
            "DEBUG - x: 37\n",
            "DEBUG - numeros[]: [4, 5, 6, 3, 4, 12, 18, 9, 3, 16, 9, 13, 19, 7, 14, 20, 8, 3, 2, 19, 10, 12, 13, 5, 18, 4, 5, 11, 12, 17, 9, 19, 4, 1, 15, 3, 13, 15]\n",
            "DEBUG - x: 38\n",
            "DEBUG - numeros[]: [4, 5, 6, 3, 4, 12, 18, 9, 3, 16, 9, 13, 19, 7, 14, 20, 8, 3, 2, 19, 10, 12, 13, 5, 18, 4, 5, 11, 12, 17, 9, 19, 4, 1, 15, 3, 13, 15, 2]\n",
            "DEBUG - x: 39\n",
            "DEBUG - numeros[]: [4, 5, 6, 3, 4, 12, 18, 9, 3, 16, 9, 13, 19, 7, 14, 20, 8, 3, 2, 19, 10, 12, 13, 5, 18, 4, 5, 11, 12, 17, 9, 19, 4, 1, 15, 3, 13, 15, 2, 2]\n",
            "DEBUG - x: 40\n",
            "DEBUG - numeros[]: [4, 5, 6, 3, 4, 12, 18, 9, 3, 16, 9, 13, 19, 7, 14, 20, 8, 3, 2, 19, 10, 12, 13, 5, 18, 4, 5, 11, 12, 17, 9, 19, 4, 1, 15, 3, 13, 15, 2, 2, 19]\n",
            "DEBUG - x: 41\n",
            "DEBUG - numeros[]: [4, 5, 6, 3, 4, 12, 18, 9, 3, 16, 9, 13, 19, 7, 14, 20, 8, 3, 2, 19, 10, 12, 13, 5, 18, 4, 5, 11, 12, 17, 9, 19, 4, 1, 15, 3, 13, 15, 2, 2, 19, 6]\n",
            "DEBUG - x: 42\n",
            "DEBUG - numeros[]: [4, 5, 6, 3, 4, 12, 18, 9, 3, 16, 9, 13, 19, 7, 14, 20, 8, 3, 2, 19, 10, 12, 13, 5, 18, 4, 5, 11, 12, 17, 9, 19, 4, 1, 15, 3, 13, 15, 2, 2, 19, 6, 13]\n",
            "DEBUG - x: 43\n",
            "DEBUG - numeros[]: [4, 5, 6, 3, 4, 12, 18, 9, 3, 16, 9, 13, 19, 7, 14, 20, 8, 3, 2, 19, 10, 12, 13, 5, 18, 4, 5, 11, 12, 17, 9, 19, 4, 1, 15, 3, 13, 15, 2, 2, 19, 6, 13, 13]\n",
            "DEBUG - x: 44\n",
            "DEBUG - numeros[]: [4, 5, 6, 3, 4, 12, 18, 9, 3, 16, 9, 13, 19, 7, 14, 20, 8, 3, 2, 19, 10, 12, 13, 5, 18, 4, 5, 11, 12, 17, 9, 19, 4, 1, 15, 3, 13, 15, 2, 2, 19, 6, 13, 13, 11]\n",
            "DEBUG - x: 45\n",
            "DEBUG - numeros[]: [4, 5, 6, 3, 4, 12, 18, 9, 3, 16, 9, 13, 19, 7, 14, 20, 8, 3, 2, 19, 10, 12, 13, 5, 18, 4, 5, 11, 12, 17, 9, 19, 4, 1, 15, 3, 13, 15, 2, 2, 19, 6, 13, 13, 11, 4]\n",
            "DEBUG - x: 46\n",
            "DEBUG - numeros[]: [4, 5, 6, 3, 4, 12, 18, 9, 3, 16, 9, 13, 19, 7, 14, 20, 8, 3, 2, 19, 10, 12, 13, 5, 18, 4, 5, 11, 12, 17, 9, 19, 4, 1, 15, 3, 13, 15, 2, 2, 19, 6, 13, 13, 11, 4, 5]\n",
            "DEBUG - x: 47\n",
            "DEBUG - numeros[]: [4, 5, 6, 3, 4, 12, 18, 9, 3, 16, 9, 13, 19, 7, 14, 20, 8, 3, 2, 19, 10, 12, 13, 5, 18, 4, 5, 11, 12, 17, 9, 19, 4, 1, 15, 3, 13, 15, 2, 2, 19, 6, 13, 13, 11, 4, 5, 19]\n",
            "DEBUG - x: 48\n",
            "DEBUG - numeros[]: [4, 5, 6, 3, 4, 12, 18, 9, 3, 16, 9, 13, 19, 7, 14, 20, 8, 3, 2, 19, 10, 12, 13, 5, 18, 4, 5, 11, 12, 17, 9, 19, 4, 1, 15, 3, 13, 15, 2, 2, 19, 6, 13, 13, 11, 4, 5, 19, 8]\n",
            "DEBUG - x: 49\n",
            "DEBUG - numeros[]: [4, 5, 6, 3, 4, 12, 18, 9, 3, 16, 9, 13, 19, 7, 14, 20, 8, 3, 2, 19, 10, 12, 13, 5, 18, 4, 5, 11, 12, 17, 9, 19, 4, 1, 15, 3, 13, 15, 2, 2, 19, 6, 13, 13, 11, 4, 5, 19, 8, 11]\n",
            "INFO - Verificando a qtde de repetições de cada número\n",
            "DEBUG - numero{}: {}\n",
            "DEBUG - n: 0\n",
            "DEBUG - count(0): 0\n",
            "DEBUG - numero{}: {0: 0}\n",
            "DEBUG - n: 1\n",
            "DEBUG - count(1): 1\n",
            "DEBUG - numero{}: {0: 0, 1: 1}\n",
            "DEBUG - n: 2\n",
            "DEBUG - count(2): 3\n",
            "DEBUG - numero{}: {0: 0, 1: 1, 2: 3}\n",
            "DEBUG - n: 3\n",
            "DEBUG - count(3): 4\n",
            "DEBUG - numero{}: {0: 0, 1: 1, 2: 3, 3: 4}\n",
            "DEBUG - n: 4\n",
            "DEBUG - count(4): 5\n",
            "DEBUG - numero{}: {0: 0, 1: 1, 2: 3, 3: 4, 4: 5}\n",
            "DEBUG - n: 5\n",
            "DEBUG - count(5): 4\n",
            "DEBUG - numero{}: {0: 0, 1: 1, 2: 3, 3: 4, 4: 5, 5: 4}\n",
            "DEBUG - n: 6\n",
            "DEBUG - count(6): 2\n",
            "DEBUG - numero{}: {0: 0, 1: 1, 2: 3, 3: 4, 4: 5, 5: 4, 6: 2}\n",
            "DEBUG - n: 7\n",
            "DEBUG - count(7): 1\n",
            "DEBUG - numero{}: {0: 0, 1: 1, 2: 3, 3: 4, 4: 5, 5: 4, 6: 2, 7: 1}\n",
            "DEBUG - n: 8\n",
            "DEBUG - count(8): 2\n",
            "DEBUG - numero{}: {0: 0, 1: 1, 2: 3, 3: 4, 4: 5, 5: 4, 6: 2, 7: 1, 8: 2}\n",
            "DEBUG - n: 9\n",
            "DEBUG - count(9): 3\n",
            "DEBUG - numero{}: {0: 0, 1: 1, 2: 3, 3: 4, 4: 5, 5: 4, 6: 2, 7: 1, 8: 2, 9: 3}\n",
            "DEBUG - n: 10\n",
            "DEBUG - count(10): 1\n",
            "DEBUG - numero{}: {0: 0, 1: 1, 2: 3, 3: 4, 4: 5, 5: 4, 6: 2, 7: 1, 8: 2, 9: 3, 10: 1}\n",
            "DEBUG - n: 11\n",
            "DEBUG - count(11): 3\n",
            "DEBUG - numero{}: {0: 0, 1: 1, 2: 3, 3: 4, 4: 5, 5: 4, 6: 2, 7: 1, 8: 2, 9: 3, 10: 1, 11: 3}\n",
            "DEBUG - n: 12\n",
            "DEBUG - count(12): 3\n",
            "DEBUG - numero{}: {0: 0, 1: 1, 2: 3, 3: 4, 4: 5, 5: 4, 6: 2, 7: 1, 8: 2, 9: 3, 10: 1, 11: 3, 12: 3}\n",
            "DEBUG - n: 13\n",
            "DEBUG - count(13): 5\n",
            "DEBUG - numero{}: {0: 0, 1: 1, 2: 3, 3: 4, 4: 5, 5: 4, 6: 2, 7: 1, 8: 2, 9: 3, 10: 1, 11: 3, 12: 3, 13: 5}\n",
            "DEBUG - n: 14\n",
            "DEBUG - count(14): 1\n",
            "DEBUG - numero{}: {0: 0, 1: 1, 2: 3, 3: 4, 4: 5, 5: 4, 6: 2, 7: 1, 8: 2, 9: 3, 10: 1, 11: 3, 12: 3, 13: 5, 14: 1}\n",
            "DEBUG - n: 15\n",
            "DEBUG - count(15): 2\n",
            "DEBUG - numero{}: {0: 0, 1: 1, 2: 3, 3: 4, 4: 5, 5: 4, 6: 2, 7: 1, 8: 2, 9: 3, 10: 1, 11: 3, 12: 3, 13: 5, 14: 1, 15: 2}\n",
            "DEBUG - n: 16\n",
            "DEBUG - count(16): 1\n",
            "DEBUG - numero{}: {0: 0, 1: 1, 2: 3, 3: 4, 4: 5, 5: 4, 6: 2, 7: 1, 8: 2, 9: 3, 10: 1, 11: 3, 12: 3, 13: 5, 14: 1, 15: 2, 16: 1}\n",
            "DEBUG - n: 17\n",
            "DEBUG - count(17): 1\n",
            "DEBUG - numero{}: {0: 0, 1: 1, 2: 3, 3: 4, 4: 5, 5: 4, 6: 2, 7: 1, 8: 2, 9: 3, 10: 1, 11: 3, 12: 3, 13: 5, 14: 1, 15: 2, 16: 1, 17: 1}\n",
            "DEBUG - n: 18\n",
            "DEBUG - count(18): 2\n",
            "DEBUG - numero{}: {0: 0, 1: 1, 2: 3, 3: 4, 4: 5, 5: 4, 6: 2, 7: 1, 8: 2, 9: 3, 10: 1, 11: 3, 12: 3, 13: 5, 14: 1, 15: 2, 16: 1, 17: 1, 18: 2}\n",
            "DEBUG - n: 19\n",
            "DEBUG - count(19): 5\n",
            "DEBUG - numero{}: {0: 0, 1: 1, 2: 3, 3: 4, 4: 5, 5: 4, 6: 2, 7: 1, 8: 2, 9: 3, 10: 1, 11: 3, 12: 3, 13: 5, 14: 1, 15: 2, 16: 1, 17: 1, 18: 2, 19: 5}\n",
            "DEBUG - n: 20\n",
            "DEBUG - count(20): 1\n",
            "DEBUG - numero{}: {0: 0, 1: 1, 2: 3, 3: 4, 4: 5, 5: 4, 6: 2, 7: 1, 8: 2, 9: 3, 10: 1, 11: 3, 12: 3, 13: 5, 14: 1, 15: 2, 16: 1, 17: 1, 18: 2, 19: 5, 20: 1}\n"
          ]
        },
        {
          "output_type": "stream",
          "name": "stdout",
          "text": [
            "50 números aleatórios: [4, 5, 6, 3, 4, 12, 18, 9, 3, 16, 9, 13, 19, 7, 14, 20, 8, 3, 2, 19, 10, 12, 13, 5, 18, 4, 5, 11, 12, 17, 9, 19, 4, 1, 15, 3, 13, 15, 2, 2, 19, 6, 13, 13, 11, 4, 5, 19, 8, 11]\n",
            "Qtde de repetições de cada número:{0: 0, 1: 1, 2: 3, 3: 4, 4: 5, 5: 4, 6: 2, 7: 1, 8: 2, 9: 3, 10: 1, 11: 3, 12: 3, 13: 5, 14: 1, 15: 2, 16: 1, 17: 1, 18: 2, 19: 5, 20: 1}\n"
          ]
        }
      ]
    },
    {
      "cell_type": "markdown",
      "source": [
        "Dada uma lista com 20 palavras, faça um programa que crie um dicionário onde a chave representa a primeira letra das palavras da lista e os valores representam todas as palavras da lista que começam com a letra da chave. Ao final do programa apresentar apenas o dicionário (chaves e valores)."
      ],
      "metadata": {
        "id": "IBPkPODCP6vS"
      }
    },
    {
      "cell_type": "code",
      "source": [
        "import logging\n",
        "\n",
        "logging.basicConfig(level=logging.DEBUG, format='%(levelname)s - %(message)s')\n",
        "\n",
        "logging.info(\"Carregando 20 palavras\")\n",
        "\n",
        "palavras = [\"armário\",\"cadeira\",\"computador\",\"caneta\",\"lápis\",\n",
        "            \"borracha\",\"monitor\",\"aleatório\",\"número\",\"final\",\n",
        "            \"programa\",\"papel\",\"hardware\",\"conjunto\",\"presente\",\n",
        "            \"mouse\",\"teclado\",\"relógio\",\"tênis\",\"camiseta\"]\n",
        "            \n",
        "logging.debug(f\"palavras[]: {palavras}\")\n",
        "logging.debug(f\"len(palavras): {len(palavras)}\")\n",
        "\n",
        "logging.info(\"Indexando palavras\")\n",
        "\n",
        "dicionario = {}\n",
        "logging.debug(f\"dicionario: {dicionario}\")\n",
        "\n",
        "for palavra in palavras:\n",
        "  letra = palavra[0]\n",
        "  logging.debug(f\"palavra: {palavra}\")\n",
        "  logging.debug(f\"letra: {letra}\")\n",
        "  if letra in dicionario.keys():\n",
        "    dicionario[letra].append(palavra) # se já existir a letra no dicionário, basta fazer o append para adicionar a nova palavra\n",
        "  else: # se não existir a letra no dicionário, é preciso criar uma lista e guardar a palavra nela\n",
        "    dicionario[letra] = [palavra]\n",
        "\n",
        "logging.debug(f\"dicionario{{}}: {dicionario}\")\n"
      ],
      "metadata": {
        "id": "NgsE2ci7P9bP",
        "colab": {
          "base_uri": "https://localhost:8080/"
        },
        "outputId": "71ee00aa-28a2-454d-b3c7-3effb0f4ea70"
      },
      "execution_count": null,
      "outputs": [
        {
          "output_type": "stream",
          "name": "stderr",
          "text": [
            "INFO - Carregando 20 palavras\n",
            "DEBUG - palavras[]: ['armário', 'cadeira', 'computador', 'caneta', 'lápis', 'borracha', 'monitor', 'aleatório', 'número', 'final', 'programa', 'papel', 'hardware', 'conjunto', 'presente', 'mouse', 'teclado', 'relógio', 'tênis', 'camiseta']\n",
            "DEBUG - len(palavras): 20\n",
            "INFO - Indexando palavras\n",
            "DEBUG - dicionario: {}\n",
            "DEBUG - palavra: armário\n",
            "DEBUG - letra: a\n",
            "DEBUG - palavra: cadeira\n",
            "DEBUG - letra: c\n",
            "DEBUG - palavra: computador\n",
            "DEBUG - letra: c\n",
            "DEBUG - palavra: caneta\n",
            "DEBUG - letra: c\n",
            "DEBUG - palavra: lápis\n",
            "DEBUG - letra: l\n",
            "DEBUG - palavra: borracha\n",
            "DEBUG - letra: b\n",
            "DEBUG - palavra: monitor\n",
            "DEBUG - letra: m\n",
            "DEBUG - palavra: aleatório\n",
            "DEBUG - letra: a\n",
            "DEBUG - palavra: número\n",
            "DEBUG - letra: n\n",
            "DEBUG - palavra: final\n",
            "DEBUG - letra: f\n",
            "DEBUG - palavra: programa\n",
            "DEBUG - letra: p\n",
            "DEBUG - palavra: papel\n",
            "DEBUG - letra: p\n",
            "DEBUG - palavra: hardware\n",
            "DEBUG - letra: h\n",
            "DEBUG - palavra: conjunto\n",
            "DEBUG - letra: c\n",
            "DEBUG - palavra: presente\n",
            "DEBUG - letra: p\n",
            "DEBUG - palavra: mouse\n",
            "DEBUG - letra: m\n",
            "DEBUG - palavra: teclado\n",
            "DEBUG - letra: t\n",
            "DEBUG - palavra: relógio\n",
            "DEBUG - letra: r\n",
            "DEBUG - palavra: tênis\n",
            "DEBUG - letra: t\n",
            "DEBUG - palavra: camiseta\n",
            "DEBUG - letra: c\n",
            "DEBUG - dicionario{}: {'a': ['armário', 'aleatório'], 'c': ['cadeira', 'computador', 'caneta', 'conjunto', 'camiseta'], 'l': ['lápis'], 'b': ['borracha'], 'm': ['monitor', 'mouse'], 'n': ['número'], 'f': ['final'], 'p': ['programa', 'papel', 'presente'], 'h': ['hardware'], 't': ['teclado', 'tênis'], 'r': ['relógio']}\n"
          ]
        }
      ]
    },
    {
      "cell_type": "markdown",
      "source": [
        "\n",
        "Dados dois conjuntos SET1 e SET2, cada qual contendo números aleatórios (de 0 a 50) verificar quais números estão presentes nos dois conjuntos e quais números não aparecem em nenhum dos dois conjuntos. Ao final do programa apresentar todos esses dados."
      ],
      "metadata": {
        "id": "XVmsFnmqP-df"
      }
    },
    {
      "cell_type": "code",
      "source": [
        "import logging\n",
        "import random\n",
        "\n",
        "logging.basicConfig(level=logging.DEBUG, format='%(levelname)s - %(message)s')\n",
        "\n",
        "set1 = set()\n",
        "set2 = set()\n",
        "todos_numeros = set(range(51))\n",
        "\n",
        "logging.info(\"Gerando os conjuntos set1 e set2 com 20 números aleatórios (0-50)\")\n",
        "for numero in range(20):\n",
        "  set1.add(random.randrange(0,51))  # adicionando número de 0-50\n",
        "  set2.add(random.randrange(0,51))  # adicionando número de 0-50\n",
        "\n",
        "logging.debug(f\"set1{{}}: {set1}\")\n",
        "logging.debug(f\"set2{{}}: {set2}\")\n",
        "logging.debug(f\"todos_numeros{{}}: {todos_numeros}\")\n",
        "\n",
        "logging.info(f\"Números presentes nos dois conjuntos: {set1 & set2}\")\n",
        "logging.info(f\"Números não presentes nos dois conjuntos: {todos_numeros - (set1 | set2)}\")"
      ],
      "metadata": {
        "id": "t1inuaSPQAY5",
        "colab": {
          "base_uri": "https://localhost:8080/"
        },
        "outputId": "993983ec-5c15-4701-f472-84261c0f883a"
      },
      "execution_count": null,
      "outputs": [
        {
          "output_type": "stream",
          "name": "stderr",
          "text": [
            "INFO - Gerando os conjuntos set1 e set2 com 50 números aleatórios\n",
            "DEBUG - set1{}: {35, 3, 5, 37, 4, 8, 45, 46, 16, 17, 18, 19, 21, 24, 29}\n",
            "DEBUG - set2{}: {32, 0, 3, 36, 37, 7, 9, 11, 12, 45, 47, 15, 16, 50, 23, 24, 31}\n",
            "DEBUG - todos_numeros{}: {0, 1, 2, 3, 4, 5, 6, 7, 8, 9, 10, 11, 12, 13, 14, 15, 16, 17, 18, 19, 20, 21, 22, 23, 24, 25, 26, 27, 28, 29, 30, 31, 32, 33, 34, 35, 36, 37, 38, 39, 40, 41, 42, 43, 44, 45, 46, 47, 48, 49, 50}\n",
            "INFO - Números presentes nos dois conjuntos: {3, 37, 45, 16, 24}\n",
            "INFO - Números não presentes nos dois conjuntos: {1, 2, 6, 10, 13, 14, 20, 22, 25, 26, 27, 28, 30, 33, 34, 38, 39, 40, 41, 42, 43, 44, 48, 49}\n"
          ]
        }
      ]
    },
    {
      "cell_type": "markdown",
      "source": [
        "\n",
        "Dados três conjuntos SET1, SET2 e SET3, cada qual contendo números aleatórios (de 0 a 50) verificar quais números estão presentes nos três conjuntos e quais números estão presentes apenas em SET1, ou seja, estes números não podem estar aparecendo em SET2 ou SET3. Ao final do programa apresentar todos esses dados."
      ],
      "metadata": {
        "id": "Cfm5vjtQQAtr"
      }
    },
    {
      "cell_type": "code",
      "source": [
        "import logging\n",
        "import random\n",
        "\n",
        "logging.basicConfig(level=logging.DEBUG, format='%(levelname)s - %(message)s')\n",
        "\n",
        "set1 = set()\n",
        "set2 = set()\n",
        "set3 = set()\n",
        "\n",
        "logging.info(\"Gerando os conjuntos set1, set2 e set3 com 20 números aleatórios (0-50)\")\n",
        "for numero in range(20):\n",
        "  set1.add(random.randrange(0,51))  # adicionando número de 0-50\n",
        "  set2.add(random.randrange(0,51))\n",
        "  set3.add(random.randrange(0,51))\n",
        "\n",
        "logging.debug(f\"set1{{}}: {set1}\")\n",
        "logging.debug(f\"set2{{}}: {set2}\")\n",
        "logging.debug(f\"set3{{}}: {set3}\")\n",
        "\n",
        "logging.info(f\"Números presentes nos 3 conjuntos: {set1&set2&set3}\")\n",
        "logging.info(f\"Números presentes apenas em set1: {set1 - (set2|set3)}\")\n"
      ],
      "metadata": {
        "id": "lL7eyS2wQBiH",
        "colab": {
          "base_uri": "https://localhost:8080/"
        },
        "outputId": "efaa99e2-d788-4ed0-dea4-926474860d8e"
      },
      "execution_count": null,
      "outputs": [
        {
          "output_type": "stream",
          "name": "stderr",
          "text": [
            "INFO - Gerando os conjuntos set1, set2 e set3 com 20 números aleatórios (0-50)\n",
            "DEBUG - set1{}: {32, 33, 38, 40, 11, 12, 46, 15, 48, 47, 14, 49, 22, 27, 28, 30}\n",
            "DEBUG - set2{}: {32, 0, 2, 5, 38, 39, 37, 44, 13, 14, 47, 16, 17, 18, 25, 29, 30}\n",
            "DEBUG - set3{}: {32, 33, 1, 5, 38, 40, 9, 43, 44, 45, 14, 16, 24, 27, 30, 31}\n",
            "INFO - Números presentes nos 3 conjuntos: {32, 30, 38, 14}\n",
            "INFO - Números presentes apenas em set1: {11, 12, 46, 15, 48, 49, 22, 28}\n"
          ]
        }
      ]
    },
    {
      "cell_type": "markdown",
      "source": [
        "Faça um programa para manipular um cadastro de produtos de informática.\n",
        "Para cada produto deverá ser registrado o nome, qtde em estoque, preço unitário e tipo. \n",
        "O programa deverá permitir operações de inclusão, exclusão, busca por nome, busca por tipo e exibição ordenada dos dados."
      ],
      "metadata": {
        "id": "hWBFbmtfKt6s"
      }
    },
    {
      "cell_type": "code",
      "source": [
        "import logging\n",
        "\n",
        "logging.basicConfig(level=logging.DEBUG, format='%(levelname)s - %(message)s')\n",
        "\n",
        "def menu():\n",
        "  print(\"=\"*50)\n",
        "  print(\"  SISTEMA DE CONTROLE DE PRODUTOS DE INFORMÁTICA\")\n",
        "  print(\"=\"*50)\n",
        "  print(\"  Opções: \")\n",
        "  print(\"  [1] - Cadastrar\")\n",
        "  print(\"  [2] - Procurar por nome\")\n",
        "  print(\"  [3] - Procurar por tipo\")\n",
        "  print(\"  [4] - Excluir\")\n",
        "  print(\"  [5] - Exibir produtos\")\n",
        "  print(\"  [0] - Sair\")\n",
        "  print(f\"  Qtde de produtos: {len(produtos)}\")\n",
        "  print(\"=\"*50)\n",
        "\n",
        "def show(produto):\n",
        "  print(f\"{produto.get('nome')}\\t{produto.get('qtde')}\\t{produto.get('preco')}\\t{produto.get('tipo')}\")\n",
        "\n",
        "def showAll(produtos):\n",
        "  print(\"NOME\\tQTDE\\tPRECO\\tTIPO\")\n",
        "  produtos_ordenados = sorted(produtos, key=lambda produto:produto[\"nome\"])\n",
        "  for produto in produtos_ordenados:\n",
        "    show(produto)\n",
        "\n",
        "def cadastrar():\n",
        "  logging.info(\"Cadastrando produto de informática\")\n",
        "  nome = input(\"Nome do produto: \")\n",
        "  qtde = int(input(\"Qtde: \"))\n",
        "  preco = float(input(\"Preço: \"))\n",
        "  tipo = input(\"Tipo: \")\n",
        "  produto = {\n",
        "      \"nome\":nome,\n",
        "      \"qtde\":qtde,\n",
        "      \"preco\":preco,\n",
        "      \"tipo\":tipo\n",
        "  }\n",
        "  produtos.append(produto)\n",
        "\n",
        "def procurar_nome():\n",
        "  logging.info(\"Pesquisando por nome do produto\")\n",
        "  nome = input(\"Nome do produto a ser localizado: \").lower()\n",
        "  encontrado = False\n",
        "  for produto in produtos:\n",
        "    if nome in produto.get(\"nome\").lower():\n",
        "      encontrado = True\n",
        "      show(produto)\n",
        "  if encontrado==False:\n",
        "    print(\"Produto não localizado\")\n",
        "\n",
        "def procurar_tipo():\n",
        "  logging.info(\"Pesquisando por tipo do produto\")\n",
        "  tipo = input(\"Tipo do produto a ser localizado: \").lower()\n",
        "  encontrado = False\n",
        "  for produto in produtos:\n",
        "    if tipo in produto.get(\"tipo\").lower():\n",
        "      encontando=True\n",
        "      show(produto)\n",
        "  if encontrado==False:\n",
        "    print(\"Tipo não localizado\")\n",
        "\n",
        "def excluir():\n",
        "  logging.info(\"Excluindo produto\")\n",
        "  nome = input(\"Nome do produto a ser excluído: \").lower()\n",
        "  posicao = 0\n",
        "  encontrado = -1\n",
        "  for produto in produtos:\n",
        "    if nome == produto.get(\"nome\").lower():\n",
        "      encontrado = posicao\n",
        "      show(produto)\n",
        "    posicao+=1\n",
        "  if encontrado==-1:\n",
        "    print(\"Produto não localizado\")\n",
        "  else:\n",
        "    produtos.pop(encontrado)\n",
        "\n",
        "def carregar():\n",
        "  logging.info(\"Carregando dados do arquivo produtos.dat\")\n",
        "  with open('produtos.dat','r') as arquivo:\n",
        "    for linha in arquivo:\n",
        "      lista_produto = linha.split(\";\")\n",
        "      nome = lista_produto[0].strip()\n",
        "      qtde = int(lista_produto[1].strip())\n",
        "      preco = float(lista_produto[2].strip())\n",
        "      tipo = lista_produto[3].strip()\n",
        "      produto = {\n",
        "        \"nome\":nome,\n",
        "        \"qtde\":qtde,\n",
        "        \"preco\":preco,\n",
        "        \"tipo\":tipo\n",
        "      }\n",
        "      produtos.append(produto)       \n",
        "\n",
        "def salvar():\n",
        "  with open('produtos.dat','w') as arquivo:\n",
        "    for p in produtos:\n",
        "      arquivo.write(f\"{p.get('nome')};{p.get('qtde')};{p.get('preco')};{p.get('tipo')}\\n\")\n",
        "\n",
        "opcao = -1\n",
        "produtos = []\n",
        "carregar()\n",
        "while (opcao!=0):\n",
        "  menu()\n",
        "  opcao = int(input(\"Digite a opção desejada: \"))\n",
        "  logging.debug(f\"opcao: {opcao}\")\n",
        "\n",
        "  if opcao == 1:\n",
        "    cadastrar()\n",
        "  elif opcao == 2:\n",
        "    procurar_nome()\n",
        "  elif opcao == 3:\n",
        "    procurar_tipo()\n",
        "  elif opcao == 4:\n",
        "    excluir()\n",
        "  elif opcao == 5:\n",
        "    showAll(produtos)\n",
        "  else:\n",
        "    if (opcao!=0):\n",
        "      logging.warning(\"Opção Inválida\")\n",
        "    else:\n",
        "      salvar()\n",
        "\n",
        "\n"
      ],
      "metadata": {
        "id": "oU6BKlL9Kucg",
        "outputId": "8883c6f2-ea14-4ba8-b54b-2a7c7ed44864",
        "colab": {
          "base_uri": "https://localhost:8080/"
        }
      },
      "execution_count": null,
      "outputs": [
        {
          "output_type": "stream",
          "name": "stderr",
          "text": [
            "INFO - Carregando dados do arquivo produtos.dat\n"
          ]
        },
        {
          "name": "stdout",
          "output_type": "stream",
          "text": [
            "==================================================\n",
            "  SISTEMA DE CONTROLE DE PRODUTOS DE INFORMÁTICA\n",
            "==================================================\n",
            "  Opções: \n",
            "  [1] - Cadastrar\n",
            "  [2] - Procurar por nome\n",
            "  [3] - Procurar por tipo\n",
            "  [4] - Excluir\n",
            "  [5] - Exibir produtos\n",
            "  [0] - Sair\n",
            "  Qtde de produtos: 4\n",
            "==================================================\n",
            "Digite a opção desejada: 5\n"
          ]
        },
        {
          "output_type": "stream",
          "name": "stderr",
          "text": [
            "DEBUG - opcao: 5\n"
          ]
        },
        {
          "name": "stdout",
          "output_type": "stream",
          "text": [
            "NOME\tQTDE\tPRECO\tTIPO\n",
            "Mouse Logitech MX\t8\t159.0\tmouse\n",
            "Pendrive\t10\t80.0\tpendrive\n",
            "Teclado ARX\t5\t129.0\tteclado\n",
            "Teclado Logitech MX\t10\t99.0\tteclado\n",
            "==================================================\n",
            "  SISTEMA DE CONTROLE DE PRODUTOS DE INFORMÁTICA\n",
            "==================================================\n",
            "  Opções: \n",
            "  [1] - Cadastrar\n",
            "  [2] - Procurar por nome\n",
            "  [3] - Procurar por tipo\n",
            "  [4] - Excluir\n",
            "  [5] - Exibir produtos\n",
            "  [0] - Sair\n",
            "  Qtde de produtos: 4\n",
            "==================================================\n",
            "Digite a opção desejada: 0\n"
          ]
        },
        {
          "output_type": "stream",
          "name": "stderr",
          "text": [
            "DEBUG - opcao: 0\n"
          ]
        }
      ]
    },
    {
      "cell_type": "markdown",
      "source": [
        "Faça um programa que receba do usuário um arquivo texto e mostre na tela quantas linhas esse arquivo possui."
      ],
      "metadata": {
        "id": "DdiL4RGqLP0Z"
      }
    },
    {
      "cell_type": "code",
      "source": [
        "nome_arquivo = input(\"Arquivo: \")\n",
        "with open(nome_arquivo,\"r\") as arquivo:\n",
        "  qtde_linhas = 0\n",
        "  for linha in arquivo:\n",
        "    qtde_linhas+=1\n",
        "print(f\"Qtde de linhas de {nome_arquivo}: {qtde_linhas}\")"
      ],
      "metadata": {
        "id": "qhaYVxV8LQTH",
        "colab": {
          "base_uri": "https://localhost:8080/"
        },
        "outputId": "40af0b28-a646-499a-81fe-9e55fd330d07"
      },
      "execution_count": null,
      "outputs": [
        {
          "output_type": "stream",
          "name": "stdout",
          "text": [
            "Arquivo: produtos.dat\n",
            "Qtde de linhas de produtos.dat: 4\n"
          ]
        }
      ]
    },
    {
      "cell_type": "markdown",
      "source": [
        "Faça um programa que receba do usuário um arquivo texto e mostre na tela quantas letras são vogais."
      ],
      "metadata": {
        "id": "bxiG5twwLQyR"
      }
    },
    {
      "cell_type": "code",
      "source": [
        "nome_arquivo = input(\"Arquivo: \")\n",
        "vogais = [\"a\",\"e\",\"i\",\"o\",\"u\",\"á\",\"é\",\"í\",\"ó\",\"ú\"]\n",
        "\n",
        "with open(nome_arquivo,\"r\") as arquivo:\n",
        "  qtde_vogais = 0\n",
        "  qtde_letras = 0\n",
        "  for linha in arquivo:\n",
        "    for letra in linha:\n",
        "      qtde_letras+=1\n",
        "      if letra in vogais:\n",
        "        qtde_vogais+=1\n",
        "print(f\"Qtde de letras em {nome_arquivo}: {qtde_letras}\")\n",
        "print(f\"Qtde de vogais em {nome_arquivo}: {qtde_vogais}\")"
      ],
      "metadata": {
        "id": "n_PyueoPLRG_",
        "colab": {
          "base_uri": "https://localhost:8080/"
        },
        "outputId": "300b9fc7-7c88-45b5-dbca-7d830c41de87"
      },
      "execution_count": null,
      "outputs": [
        {
          "output_type": "stream",
          "name": "stdout",
          "text": [
            "Arquivo: produtos.dat\n",
            "Qtde de letras em produtos.dat: 122\n",
            "Qtde de vogais em produtos.dat: 30\n"
          ]
        }
      ]
    },
    {
      "cell_type": "markdown",
      "source": [
        "Faça um programa que receba do usuário um arquivo texto e um caracter. Mostre na tela quantas vezes aquele caractere ocorre dentro do arquivo."
      ],
      "metadata": {
        "id": "EUJIjYfmLRW5"
      }
    },
    {
      "cell_type": "code",
      "source": [
        "arquivo_nome = input(\"Arquivo: \")\n",
        "caractere = input(\"Caractere: \")\n",
        "\n",
        "qtde = 0\n",
        "with open(arquivo_nome, 'r') as arquivo:\n",
        "  for linha in arquivo:\n",
        "    qtde = qtde + linha.count(caractere)\n",
        "print(qtde)\n"
      ],
      "metadata": {
        "id": "Ir2LwA3jLRlq",
        "outputId": "b028289c-fb2c-49d0-d34f-2ef3742f653b",
        "colab": {
          "base_uri": "https://localhost:8080/"
        }
      },
      "execution_count": null,
      "outputs": [
        {
          "output_type": "stream",
          "name": "stdout",
          "text": [
            "Arquivo: sample_data/README.md\n",
            "Caractere: a\n",
            "72\n"
          ]
        }
      ]
    },
    {
      "cell_type": "code",
      "source": [
        "arquivo_nome = input(\"Arquivo: \")\n",
        "caractere = input(\"Caractere: \")\n",
        "\n",
        "qtde = 0\n",
        "with open(arquivo_nome, 'r') as arquivo:\n",
        "  for linha in arquivo:\n",
        "    for letra in linha:\n",
        "      if (letra == caractere):\n",
        "        qtde = qtde + 1  \n",
        "print(qtde)"
      ],
      "metadata": {
        "id": "aRxWOWFu0HJ9"
      },
      "execution_count": null,
      "outputs": []
    },
    {
      "cell_type": "markdown",
      "source": [
        "Faça um programa que receba do usuário um arquivo texto e mostre na tela quantas vezes cada letra do alfabeto aparece dentro do arquivo."
      ],
      "metadata": {
        "id": "4Iv4KOHxLR0Y"
      }
    },
    {
      "cell_type": "code",
      "source": [
        "import string\n",
        "\n",
        "arquivo_nome = input(\"Arquivo: \")\n",
        "alfabeto = list(string.ascii_lowercase)\n",
        "qtdes = []\n",
        "\n",
        "for contador in range(len(alfabeto)):\n",
        "  qtdes.append(0)\n",
        "\n",
        "with open(arquivo_nome, 'r') as arquivo:\n",
        "  for linha in arquivo:\n",
        "    for letra in alfabeto:\n",
        "      qtdes[alfabeto.index(letra)]+=linha.count(letra)\n",
        "\n",
        "print(alfabeto)\n",
        "print(qtdes)"
      ],
      "metadata": {
        "colab": {
          "base_uri": "https://localhost:8080/"
        },
        "id": "_AApajSqLSE4",
        "outputId": "3d11d6ab-a2f5-4976-ca23-7cf761175c90"
      },
      "execution_count": null,
      "outputs": [
        {
          "output_type": "stream",
          "name": "stdout",
          "text": [
            "Arquivo: sample_data/README.md\n",
            "['a', 'b', 'c', 'd', 'e', 'f', 'g', 'h', 'i', 'j', 'k', 'l', 'm', 'n', 'o', 'p', 'q', 'r', 's', 't', 'u', 'v', 'w', 'x', 'y', 'z']\n",
            "[72, 18, 29, 27, 53, 10, 14, 18, 55, 2, 4, 21, 18, 37, 38, 16, 2, 29, 56, 52, 12, 8, 8, 1, 9, 1]\n"
          ]
        }
      ]
    },
    {
      "cell_type": "markdown",
      "source": [
        "Faça um programa que receba do usuário um arquivo texto. Crie outro arquivo texto contendo o texto do arquivo de entrada, mas com as vogais substituídas por *."
      ],
      "metadata": {
        "id": "t4My_qn3LSTV"
      }
    },
    {
      "cell_type": "code",
      "source": [
        "def substituir_vogais (texto):\n",
        "  resultado = texto.replace(\"a\",\"*\")\n",
        "  resultado = resultado.replace(\"e\",\"*\")\n",
        "  resultado = resultado.replace(\"i\",\"*\")\n",
        "  resultado = resultado.replace(\"o\",\"*\")\n",
        "  return resultado.replace(\"u\",\"*\")\n",
        "\n",
        "nome_arquivo = input(\"Arquivo: \")\n",
        "\n",
        "texto = \"\"\n",
        "\n",
        "\n",
        "\n",
        "with open(nome_arquivo,\"r\") as arquivo:\n",
        "  for linha in arquivo:\n",
        "    texto += substituir_vogais(linha)\n",
        "\n",
        "with open(\"resultado.txt\",\"w\") as arquivo2:\n",
        "  arquivo2.write(texto)\n",
        "\n",
        "print(f\"O conteúdo modificado do arquivo {nome_arquivo} encontra-se em resultado.txt\")"
      ],
      "metadata": {
        "id": "oWDfefKKLSjr",
        "colab": {
          "base_uri": "https://localhost:8080/"
        },
        "outputId": "fb8410cb-083d-405d-9795-8077a636d16a"
      },
      "execution_count": null,
      "outputs": [
        {
          "name": "stdout",
          "output_type": "stream",
          "text": [
            "Arquivo: sample_data/README.md\n"
          ]
        }
      ]
    },
    {
      "cell_type": "markdown",
      "source": [
        "Expressões regulares em python:\n",
        "https://www.w3schools.com/python/python_regex.asp"
      ],
      "metadata": {
        "id": "bx-ok91M3jfK"
      }
    },
    {
      "cell_type": "markdown",
      "source": [
        "Reescreva o programa anterior para utilizar expressões regulares.\n"
      ],
      "metadata": {
        "id": "nz1ykZLMLS4k"
      }
    },
    {
      "cell_type": "code",
      "source": [
        "import re\n",
        "\n",
        "nome_arquivo = input(\"Arquivo: \")\n",
        "\n",
        "texto = \"\"\n",
        "\n",
        "with open(nome_arquivo,\"r\") as arquivo:\n",
        "  for linha in arquivo:\n",
        "    texto += linha\n",
        "\n",
        "texto = re.sub(\"[aeiou]\",\"*\",texto)\n",
        "\n",
        "with open(\"resultado.txt\",\"w\") as arquivo2:\n",
        "  arquivo2.write(texto)\n",
        "\n",
        "print(f\"O conteúdo modificado do arquivo {nome_arquivo} encontra-se em resultado.txt\")"
      ],
      "metadata": {
        "id": "4gqcH62ELTGF",
        "colab": {
          "base_uri": "https://localhost:8080/"
        },
        "outputId": "455a88a1-e595-473f-988e-69a79d5387fb"
      },
      "execution_count": null,
      "outputs": [
        {
          "output_type": "stream",
          "name": "stdout",
          "text": [
            "Arquivo: sample_data/README.md\n",
            "O conteúdo modificado do arquivo sample_data/README.md encontra-se em resultado.txt\n"
          ]
        }
      ]
    },
    {
      "cell_type": "markdown",
      "source": [
        "Verificar se a entrada do usuário é um CPF em formato válido utilizando expressões regulares."
      ],
      "metadata": {
        "id": "aVw1jr-U3QIE"
      }
    },
    {
      "cell_type": "code",
      "source": [
        "import re\n",
        "\n",
        "cpf = input(\"CPF: \")\n",
        "expCPF = \"\\d{3}[.]\\d{3}[.]\\d{3}[-]\\d{2}\"\n",
        "\n",
        "if re.match(expCPF, cpf):\n",
        "  print(\"Formato Válido\")\n",
        "else:\n",
        "  print(\"Formato Inválido\")"
      ],
      "metadata": {
        "colab": {
          "base_uri": "https://localhost:8080/"
        },
        "id": "I5A-EbsR3X79",
        "outputId": "30688130-dcb4-4034-f398-3d5c2d8e6f8d"
      },
      "execution_count": null,
      "outputs": [
        {
          "output_type": "stream",
          "name": "stdout",
          "text": [
            "CPF: 123.456.789-00\n",
            "Formato Válido\n"
          ]
        }
      ]
    },
    {
      "cell_type": "markdown",
      "source": [
        "Faça um programa que peça um número IP válido. O programa não deve terminar enquanto o número IP for inválido. A solução deve utilizar expressão regular."
      ],
      "metadata": {
        "id": "n8eollYvzI9e"
      }
    },
    {
      "cell_type": "code",
      "source": [
        "import re\n",
        "\n",
        "expIP = \"[0-255]{1,3}[.][0-255]{1,3}[.][0-255]{1,3}[.][0-255]{1,3}\"\n",
        "ip = input(\"IP: \")\n",
        "\n",
        "while not re.match(expIP,ip):\n",
        "  print(\"IP Inválido\")\n",
        "  ip = input(\"IP: \")\n",
        "else:\n",
        "  print(\"IP Válido\")\n"
      ],
      "metadata": {
        "id": "DRC2o5ELzJzq",
        "colab": {
          "base_uri": "https://localhost:8080/",
          "height": 620
        },
        "outputId": "6ac33c3d-9df0-4c0a-8a16-1ffa2690f6d2"
      },
      "execution_count": null,
      "outputs": [
        {
          "output_type": "stream",
          "name": "stdout",
          "text": [
            "Data: 10/10/2020\n",
            "Formato da Data Inválido\n"
          ]
        },
        {
          "output_type": "error",
          "ename": "KeyboardInterrupt",
          "evalue": "ignored",
          "traceback": [
            "\u001b[0;31m---------------------------------------------------------------------------\u001b[0m",
            "\u001b[0;31mKeyboardInterrupt\u001b[0m                         Traceback (most recent call last)",
            "\u001b[0;32m/usr/local/lib/python3.7/dist-packages/ipykernel/kernelbase.py\u001b[0m in \u001b[0;36m_input_request\u001b[0;34m(self, prompt, ident, parent, password)\u001b[0m\n\u001b[1;32m    728\u001b[0m             \u001b[0;32mtry\u001b[0m\u001b[0;34m:\u001b[0m\u001b[0;34m\u001b[0m\u001b[0;34m\u001b[0m\u001b[0m\n\u001b[0;32m--> 729\u001b[0;31m                 \u001b[0mident\u001b[0m\u001b[0;34m,\u001b[0m \u001b[0mreply\u001b[0m \u001b[0;34m=\u001b[0m \u001b[0mself\u001b[0m\u001b[0;34m.\u001b[0m\u001b[0msession\u001b[0m\u001b[0;34m.\u001b[0m\u001b[0mrecv\u001b[0m\u001b[0;34m(\u001b[0m\u001b[0mself\u001b[0m\u001b[0;34m.\u001b[0m\u001b[0mstdin_socket\u001b[0m\u001b[0;34m,\u001b[0m \u001b[0;36m0\u001b[0m\u001b[0;34m)\u001b[0m\u001b[0;34m\u001b[0m\u001b[0;34m\u001b[0m\u001b[0m\n\u001b[0m\u001b[1;32m    730\u001b[0m             \u001b[0;32mexcept\u001b[0m \u001b[0mException\u001b[0m\u001b[0;34m:\u001b[0m\u001b[0;34m\u001b[0m\u001b[0;34m\u001b[0m\u001b[0m\n",
            "\u001b[0;32m/usr/local/lib/python3.7/dist-packages/jupyter_client/session.py\u001b[0m in \u001b[0;36mrecv\u001b[0;34m(self, socket, mode, content, copy)\u001b[0m\n\u001b[1;32m    802\u001b[0m         \u001b[0;32mtry\u001b[0m\u001b[0;34m:\u001b[0m\u001b[0;34m\u001b[0m\u001b[0;34m\u001b[0m\u001b[0m\n\u001b[0;32m--> 803\u001b[0;31m             \u001b[0mmsg_list\u001b[0m \u001b[0;34m=\u001b[0m \u001b[0msocket\u001b[0m\u001b[0;34m.\u001b[0m\u001b[0mrecv_multipart\u001b[0m\u001b[0;34m(\u001b[0m\u001b[0mmode\u001b[0m\u001b[0;34m,\u001b[0m \u001b[0mcopy\u001b[0m\u001b[0;34m=\u001b[0m\u001b[0mcopy\u001b[0m\u001b[0;34m)\u001b[0m\u001b[0;34m\u001b[0m\u001b[0;34m\u001b[0m\u001b[0m\n\u001b[0m\u001b[1;32m    804\u001b[0m         \u001b[0;32mexcept\u001b[0m \u001b[0mzmq\u001b[0m\u001b[0;34m.\u001b[0m\u001b[0mZMQError\u001b[0m \u001b[0;32mas\u001b[0m \u001b[0me\u001b[0m\u001b[0;34m:\u001b[0m\u001b[0;34m\u001b[0m\u001b[0;34m\u001b[0m\u001b[0m\n",
            "\u001b[0;32m/usr/local/lib/python3.7/dist-packages/zmq/sugar/socket.py\u001b[0m in \u001b[0;36mrecv_multipart\u001b[0;34m(self, flags, copy, track)\u001b[0m\n\u001b[1;32m    624\u001b[0m         \"\"\"\n\u001b[0;32m--> 625\u001b[0;31m         \u001b[0mparts\u001b[0m \u001b[0;34m=\u001b[0m \u001b[0;34m[\u001b[0m\u001b[0mself\u001b[0m\u001b[0;34m.\u001b[0m\u001b[0mrecv\u001b[0m\u001b[0;34m(\u001b[0m\u001b[0mflags\u001b[0m\u001b[0;34m,\u001b[0m \u001b[0mcopy\u001b[0m\u001b[0;34m=\u001b[0m\u001b[0mcopy\u001b[0m\u001b[0;34m,\u001b[0m \u001b[0mtrack\u001b[0m\u001b[0;34m=\u001b[0m\u001b[0mtrack\u001b[0m\u001b[0;34m)\u001b[0m\u001b[0;34m]\u001b[0m\u001b[0;34m\u001b[0m\u001b[0;34m\u001b[0m\u001b[0m\n\u001b[0m\u001b[1;32m    626\u001b[0m         \u001b[0;31m# have first part already, only loop while more to receive\u001b[0m\u001b[0;34m\u001b[0m\u001b[0;34m\u001b[0m\u001b[0;34m\u001b[0m\u001b[0m\n",
            "\u001b[0;32mzmq/backend/cython/socket.pyx\u001b[0m in \u001b[0;36mzmq.backend.cython.socket.Socket.recv\u001b[0;34m()\u001b[0m\n",
            "\u001b[0;32mzmq/backend/cython/socket.pyx\u001b[0m in \u001b[0;36mzmq.backend.cython.socket.Socket.recv\u001b[0;34m()\u001b[0m\n",
            "\u001b[0;32mzmq/backend/cython/socket.pyx\u001b[0m in \u001b[0;36mzmq.backend.cython.socket._recv_copy\u001b[0;34m()\u001b[0m\n",
            "\u001b[0;32m/usr/local/lib/python3.7/dist-packages/zmq/backend/cython/checkrc.pxd\u001b[0m in \u001b[0;36mzmq.backend.cython.checkrc._check_rc\u001b[0;34m()\u001b[0m\n",
            "\u001b[0;31mKeyboardInterrupt\u001b[0m: ",
            "\nDuring handling of the above exception, another exception occurred:\n",
            "\u001b[0;31mKeyboardInterrupt\u001b[0m                         Traceback (most recent call last)",
            "\u001b[0;32m<ipython-input-4-e446e3d1d0c9>\u001b[0m in \u001b[0;36m<module>\u001b[0;34m()\u001b[0m\n\u001b[1;32m      6\u001b[0m \u001b[0;32mwhile\u001b[0m \u001b[0;32mnot\u001b[0m \u001b[0mre\u001b[0m\u001b[0;34m.\u001b[0m\u001b[0mmatch\u001b[0m\u001b[0;34m(\u001b[0m\u001b[0mexpData\u001b[0m\u001b[0;34m,\u001b[0m\u001b[0mdata\u001b[0m\u001b[0;34m)\u001b[0m\u001b[0;34m:\u001b[0m\u001b[0;34m\u001b[0m\u001b[0;34m\u001b[0m\u001b[0m\n\u001b[1;32m      7\u001b[0m   \u001b[0mprint\u001b[0m\u001b[0;34m(\u001b[0m\u001b[0;34m\"Formato da Data Inválido\"\u001b[0m\u001b[0;34m)\u001b[0m\u001b[0;34m\u001b[0m\u001b[0;34m\u001b[0m\u001b[0m\n\u001b[0;32m----> 8\u001b[0;31m   \u001b[0mdata\u001b[0m \u001b[0;34m=\u001b[0m \u001b[0minput\u001b[0m\u001b[0;34m(\u001b[0m\u001b[0;34m\"Data: \"\u001b[0m\u001b[0;34m)\u001b[0m\u001b[0;34m\u001b[0m\u001b[0;34m\u001b[0m\u001b[0m\n\u001b[0m\u001b[1;32m      9\u001b[0m \u001b[0;32melse\u001b[0m\u001b[0;34m:\u001b[0m\u001b[0;34m\u001b[0m\u001b[0;34m\u001b[0m\u001b[0m\n\u001b[1;32m     10\u001b[0m   \u001b[0mprint\u001b[0m\u001b[0;34m(\u001b[0m\u001b[0;34m\"Formato da Data Válido\"\u001b[0m\u001b[0;34m)\u001b[0m\u001b[0;34m\u001b[0m\u001b[0;34m\u001b[0m\u001b[0m\n",
            "\u001b[0;32m/usr/local/lib/python3.7/dist-packages/ipykernel/kernelbase.py\u001b[0m in \u001b[0;36mraw_input\u001b[0;34m(self, prompt)\u001b[0m\n\u001b[1;32m    702\u001b[0m             \u001b[0mself\u001b[0m\u001b[0;34m.\u001b[0m\u001b[0m_parent_ident\u001b[0m\u001b[0;34m,\u001b[0m\u001b[0;34m\u001b[0m\u001b[0;34m\u001b[0m\u001b[0m\n\u001b[1;32m    703\u001b[0m             \u001b[0mself\u001b[0m\u001b[0;34m.\u001b[0m\u001b[0m_parent_header\u001b[0m\u001b[0;34m,\u001b[0m\u001b[0;34m\u001b[0m\u001b[0;34m\u001b[0m\u001b[0m\n\u001b[0;32m--> 704\u001b[0;31m             \u001b[0mpassword\u001b[0m\u001b[0;34m=\u001b[0m\u001b[0;32mFalse\u001b[0m\u001b[0;34m,\u001b[0m\u001b[0;34m\u001b[0m\u001b[0;34m\u001b[0m\u001b[0m\n\u001b[0m\u001b[1;32m    705\u001b[0m         )\n\u001b[1;32m    706\u001b[0m \u001b[0;34m\u001b[0m\u001b[0m\n",
            "\u001b[0;32m/usr/local/lib/python3.7/dist-packages/ipykernel/kernelbase.py\u001b[0m in \u001b[0;36m_input_request\u001b[0;34m(self, prompt, ident, parent, password)\u001b[0m\n\u001b[1;32m    732\u001b[0m             \u001b[0;32mexcept\u001b[0m \u001b[0mKeyboardInterrupt\u001b[0m\u001b[0;34m:\u001b[0m\u001b[0;34m\u001b[0m\u001b[0;34m\u001b[0m\u001b[0m\n\u001b[1;32m    733\u001b[0m                 \u001b[0;31m# re-raise KeyboardInterrupt, to truncate traceback\u001b[0m\u001b[0;34m\u001b[0m\u001b[0;34m\u001b[0m\u001b[0;34m\u001b[0m\u001b[0m\n\u001b[0;32m--> 734\u001b[0;31m                 \u001b[0;32mraise\u001b[0m \u001b[0mKeyboardInterrupt\u001b[0m\u001b[0;34m\u001b[0m\u001b[0;34m\u001b[0m\u001b[0m\n\u001b[0m\u001b[1;32m    735\u001b[0m             \u001b[0;32melse\u001b[0m\u001b[0;34m:\u001b[0m\u001b[0;34m\u001b[0m\u001b[0;34m\u001b[0m\u001b[0m\n\u001b[1;32m    736\u001b[0m                 \u001b[0;32mbreak\u001b[0m\u001b[0;34m\u001b[0m\u001b[0;34m\u001b[0m\u001b[0m\n",
            "\u001b[0;31mKeyboardInterrupt\u001b[0m: "
          ]
        }
      ]
    },
    {
      "cell_type": "markdown",
      "source": [
        "Faça um programa que peça uma data no formato (DD/MM/YYYY). O programa não deve terminar enquanto o formato da data for inválido. A solução deve utilizar expressão regular."
      ],
      "metadata": {
        "id": "En9aNauozKsw"
      }
    },
    {
      "cell_type": "code",
      "source": [
        "import re\n",
        "\n",
        "expData = \"(0[1-9]|[12][0-9]|3[01])/(0[1-9]|1[012])/(19|20)\\d{2}\"\n",
        "data = input(\"Data: \")\n",
        "\n",
        "while not re.match(expData,data):\n",
        "  print(\"Formato da Data Inválido\")\n",
        "  data = input(\"Data: \")\n",
        "else:\n",
        "  print(\"Formato da Data Válido\")\n"
      ],
      "metadata": {
        "id": "CnOBM2eQzp5p",
        "colab": {
          "base_uri": "https://localhost:8080/"
        },
        "outputId": "f6e80d87-72ea-4c54-cddb-5c7e14d84ffe"
      },
      "execution_count": null,
      "outputs": [
        {
          "output_type": "stream",
          "name": "stdout",
          "text": [
            "Data: 10/12/2001\n",
            "Formato da Data Válido\n"
          ]
        }
      ]
    },
    {
      "cell_type": "markdown",
      "source": [
        "Faça um programa que exiba todas as palavras que começam com uma determinada letra (maiúscula ou minúscula) de um texto qualquer. A solução deve utilizar expressão regular."
      ],
      "metadata": {
        "id": "PG5z_s4c3KE_"
      }
    },
    {
      "cell_type": "code",
      "source": [
        "import re\n",
        "\n",
        "texto = \"Abacaxi Limão Pera abacate laranja\"\n",
        "\n",
        "letra = input(\"Letra: \")\n",
        "\n",
        "x = re.findall(r\"\\b[\"+letra.lower() + letra.upper() + \"]\\w+\", texto)\n",
        "print(x)\n"
      ],
      "metadata": {
        "id": "9cmQBvTi3KYH",
        "colab": {
          "base_uri": "https://localhost:8080/"
        },
        "outputId": "c76b7e3a-65c1-44d7-aacb-51e7d49c2e26"
      },
      "execution_count": null,
      "outputs": [
        {
          "output_type": "stream",
          "name": "stdout",
          "text": [
            "Letra: a\n",
            "['Abacaxi', 'abacate']\n"
          ]
        }
      ]
    },
    {
      "cell_type": "markdown",
      "source": [
        "Refaça o programa de cadastro de produtos de informática para validar os dados de entrada utilizando expressões regulares."
      ],
      "metadata": {
        "id": "C7eyvqsW3zqT"
      }
    },
    {
      "cell_type": "code",
      "source": [
        "import logging\n",
        "import re\n",
        "\n",
        "logging.basicConfig(level=logging.DEBUG, format='%(levelname)s - %(message)s')\n",
        "\n",
        "expNome   = \"(\\w|\\s){3,40}\"\n",
        "expQtde   = \"\\d+\"\n",
        "expPreco  = \"(\\d+|\\d+[.]\\d{1,2})\"\n",
        "expTipo   = \"(\\w|\\s){3,30}\"\n",
        "\n",
        "def menu():\n",
        "  print(\"=\"*50)\n",
        "  print(\"  SISTEMA DE CONTROLE DE PRODUTOS DE INFORMÁTICA\")\n",
        "  print(\"=\"*50)\n",
        "  print(\"  Opções: \")\n",
        "  print(\"  [1] - Cadastrar\")\n",
        "  print(\"  [2] - Procurar por nome\")\n",
        "  print(\"  [3] - Procurar por tipo\")\n",
        "  print(\"  [4] - Excluir\")\n",
        "  print(\"  [5] - Exibir produtos\")\n",
        "  print(\"  [0] - Sair\")\n",
        "  print(f\"  Qtde de produtos: {len(produtos)}\")\n",
        "  print(\"=\"*50)\n",
        "\n",
        "def show(produto):\n",
        "  print(f\"{produto.get('nome')}\\t{produto.get('qtde')}\\t{produto.get('preco')}\\t{produto.get('tipo')}\")\n",
        "\n",
        "def showAll(produtos):\n",
        "  print(\"NOME\\tQTDE\\tPRECO\\tTIPO\")\n",
        "  produtos_ordenados = sorted(produtos, key=lambda produto:produto[\"nome\"])\n",
        "  for produto in produtos_ordenados:\n",
        "    show(produto)\n",
        "\n",
        "def cadastrar():\n",
        "  logging.info(\"Cadastrando produto de informática\")\n",
        "  nome = input(\"Nome do produto: \")\n",
        "  while not re.match(expNome,nome):\n",
        "    print(\"Nome de produto inválido. Mínimo de 3 e máximo de 40 caracteres.\")\n",
        "    nome = input(\"Nome do produto: \")\n",
        "\n",
        "  qtde = input(\"Qtde: \")\n",
        "  while not re.match(expQtde,qtde):\n",
        "    print(\"Qtde inválida. Valores devem ser >=0.\")\n",
        "    qtde = input(\"Qtde: \")\n",
        "  qtde = int(qtde)\n",
        "\n",
        "  preco = input(\"Preço: \")\n",
        "  while not re.match(expPreco,preco):\n",
        "    print(\"Preço inválido. Valores devem ser >=0\")\n",
        "    preco = input(\"Preço: \")\n",
        "  preco = float(preco)\n",
        "\n",
        "  tipo = input(\"Tipo: \")\n",
        "  while not re.match(expTipo,tipo):\n",
        "    print(\"Tipo inválido. Mínimo de 3 e máximo de 30 caracteres.\")\n",
        "    tipo = input(\"Tipo: \")\n",
        "\n",
        "  produto = {\n",
        "      \"nome\":nome,\n",
        "      \"qtde\":qtde,\n",
        "      \"preco\":preco,\n",
        "      \"tipo\":tipo\n",
        "  }\n",
        "  produtos.append(produto)\n",
        "\n",
        "def procurar_nome():\n",
        "  logging.info(\"Pesquisando por nome do produto\")\n",
        "  nome = input(\"Nome do produto a ser localizado: \").lower()\n",
        "  encontrado = False\n",
        "  for produto in produtos:\n",
        "    if nome in produto.get(\"nome\").lower():\n",
        "      encontrado = True\n",
        "      show(produto)\n",
        "  if encontrado==False:\n",
        "    print(\"Produto não localizado\")\n",
        "\n",
        "def procurar_tipo():\n",
        "  logging.info(\"Pesquisando por tipo do produto\")\n",
        "  tipo = input(\"Tipo do produto a ser localizado: \").lower()\n",
        "  encontrado = False\n",
        "  for produto in produtos:\n",
        "    if tipo in produto.get(\"tipo\").lower():\n",
        "      encontando=True\n",
        "      show(produto)\n",
        "  if encontrado==False:\n",
        "    print(\"Tipo não localizado\")\n",
        "\n",
        "def excluir():\n",
        "  logging.info(\"Excluindo produto\")\n",
        "  nome = input(\"Nome do produto a ser excluído: \").lower()\n",
        "  posicao = 0\n",
        "  encontrado = -1\n",
        "  for produto in produtos:\n",
        "    if nome == produto.get(\"nome\").lower():\n",
        "      encontrado = posicao\n",
        "      show(produto)\n",
        "    posicao+=1\n",
        "  if encontrado==-1:\n",
        "    print(\"Produto não localizado\")\n",
        "  else:\n",
        "    produtos.pop(encontrado)\n",
        "\n",
        "def carregar():\n",
        "  logging.info(\"Carregando dados do arquivo produtos.dat\")\n",
        "  try:\n",
        "    with open('produtos.dat','r') as arquivo:\n",
        "      for linha in arquivo:\n",
        "        lista_produto = linha.split(\";\")\n",
        "        nome = lista_produto[0].strip()\n",
        "        qtde = int(lista_produto[1].strip())\n",
        "        preco = float(lista_produto[2].strip())\n",
        "        tipo = lista_produto[3].strip()\n",
        "        produto = {\n",
        "          \"nome\":nome,\n",
        "          \"qtde\":qtde,\n",
        "          \"preco\":preco,\n",
        "          \"tipo\":tipo\n",
        "        }\n",
        "        produtos.append(produto)   \n",
        "  except FileNotFoundError:\n",
        "    logging.error(\"Arquivo não encontrado!\")\n",
        "    logging.info(\"Criando arquivo produtos.dat\")\n",
        "    try:\n",
        "      arquivo = open('produtos.dat','w')\n",
        "      arquivo.close()\n",
        "      logging.info(\"Arquivo produtos.dat criado com sucesso\")\n",
        "    except:\n",
        "      logging.info(\"Erro ao criar o arquivo. Verifique com o administrador as permissões do sistema.\")\n",
        "  except:\n",
        "    logging.error(\"Ocorreu um problema não previsto ao tentar abrir o arquivo produtos.dat!\")\n",
        "  else:\n",
        "    logging.info(\"Arquivo produtos.dat carregado com sucesso!\")\n",
        "  finally:\n",
        "    logging.debug(\"Finalizada a função carregar()\")\n",
        "def salvar():\n",
        "  with open('produtos.dat','w') as arquivo:\n",
        "    for p in produtos:\n",
        "      arquivo.write(f\"{p.get('nome')};{p.get('qtde')};{p.get('preco')};{p.get('tipo')}\\n\")\n",
        "\n",
        "opcao = -1\n",
        "produtos = []\n",
        "carregar()\n",
        "while (opcao!=0):\n",
        "  menu()\n",
        "  try:\n",
        "    opcao = int(input(\"Digite a opção desejada: \"))\n",
        "  except ValueError:\n",
        "    logging.error(\"Opção Inválida. Digite um número de 0 a 5.\")\n",
        "  except:\n",
        "    logging.error(\"Ocorreu um erro não previsto na escolha da opção. Tente novamente!\")\n",
        "  logging.debug(f\"opcao: {opcao}\")\n",
        "\n",
        "  if opcao == 1:\n",
        "    cadastrar()\n",
        "  elif opcao == 2:\n",
        "    procurar_nome()\n",
        "  elif opcao == 3:\n",
        "    procurar_tipo()\n",
        "  elif opcao == 4:\n",
        "    excluir()\n",
        "  elif opcao == 5:\n",
        "    showAll(produtos)\n",
        "  else:\n",
        "    if (opcao==0):\n",
        "      salvar()"
      ],
      "metadata": {
        "id": "5piC4S5S35XK",
        "colab": {
          "base_uri": "https://localhost:8080/"
        },
        "outputId": "0528a97c-9c6e-47ce-e773-aba723d65de1"
      },
      "execution_count": null,
      "outputs": [
        {
          "output_type": "stream",
          "name": "stderr",
          "text": [
            "INFO - Carregando dados do arquivo produtos.dat\n",
            "INFO - Arquivo produtos.dat carregado com sucesso!\n",
            "DEBUG - Finalizada a função carregar()\n"
          ]
        },
        {
          "name": "stdout",
          "output_type": "stream",
          "text": [
            "==================================================\n",
            "  SISTEMA DE CONTROLE DE PRODUTOS DE INFORMÁTICA\n",
            "==================================================\n",
            "  Opções: \n",
            "  [1] - Cadastrar\n",
            "  [2] - Procurar por nome\n",
            "  [3] - Procurar por tipo\n",
            "  [4] - Excluir\n",
            "  [5] - Exibir produtos\n",
            "  [0] - Sair\n",
            "  Qtde de produtos: 1\n",
            "==================================================\n",
            "Digite a opção desejada: 1\n"
          ]
        },
        {
          "output_type": "stream",
          "name": "stderr",
          "text": [
            "DEBUG - opcao: 1\n",
            "INFO - Cadastrando produto de informática\n"
          ]
        },
        {
          "name": "stdout",
          "output_type": "stream",
          "text": [
            "Nome do produto: adsa\n",
            "Qtde: 0\n",
            "Preço: 0\n",
            "Tipo: 123\n",
            "==================================================\n",
            "  SISTEMA DE CONTROLE DE PRODUTOS DE INFORMÁTICA\n",
            "==================================================\n",
            "  Opções: \n",
            "  [1] - Cadastrar\n",
            "  [2] - Procurar por nome\n",
            "  [3] - Procurar por tipo\n",
            "  [4] - Excluir\n",
            "  [5] - Exibir produtos\n",
            "  [0] - Sair\n",
            "  Qtde de produtos: 2\n",
            "==================================================\n",
            "Digite a opção desejada: 0\n"
          ]
        },
        {
          "output_type": "stream",
          "name": "stderr",
          "text": [
            "DEBUG - opcao: 0\n"
          ]
        }
      ]
    },
    {
      "cell_type": "markdown",
      "source": [
        "Tratamento de Exceções com python:"
      ],
      "metadata": {
        "id": "9qoyxqN-JzkV"
      }
    },
    {
      "cell_type": "code",
      "source": [
        "try:\n",
        "  resultado1 = 10 * (1/0)\n",
        "except ZeroDivisionError:\n",
        "  print(\"Ocorreu um erro de divisão por zero, reveja os valores.\")\n",
        "\n",
        "try:\n",
        "  resultado2 = 4 + spam*3\n",
        "except NameError:\n",
        "  print(\"Ops... Alguma variável não foi declarada\")\n",
        "\n",
        "try:\n",
        "  resultado3 = '2' + 2\n",
        "except TypeError:\n",
        "  print(\"Existem tipos incompatíveis na expressão.\")"
      ],
      "metadata": {
        "id": "f1PJ9NoTJ2JB",
        "outputId": "ffa3ffb4-d707-4b88-9daa-0eef7931d82d",
        "colab": {
          "base_uri": "https://localhost:8080/"
        }
      },
      "execution_count": null,
      "outputs": [
        {
          "output_type": "stream",
          "name": "stdout",
          "text": [
            "Ocorreu um erro de divisão por zero, reveja os valores.\n",
            "Ops... Alguma variável não foi declarada\n",
            "Existem tipos incompatíveis na expressão.\n"
          ]
        }
      ]
    },
    {
      "cell_type": "markdown",
      "source": [
        "Gráfico com Python"
      ],
      "metadata": {
        "id": "tlC_6sb_08cv"
      }
    },
    {
      "cell_type": "code",
      "source": [
        "import matplotlib as mpl\n",
        "import matplotlib.pyplot as plt\n",
        "\n",
        "fig, ax = plt.subplots()  # Cria uma figura e os eixos x e y.\n",
        "ax.set_title('Clima')\n",
        "ax.set_xlabel('dia')\n",
        "ax.set_ylabel('temperatura')\n",
        "#ax.set_xticks(range(1,8,1))\n",
        "ax.plot([1, 2, 3, 4, 5, 6, 7], [22, 21, 28, 25, 29, 30, 33], label='temperatura');  # Insere os dados.\n",
        "ax.plot([1, 2, 3, 4, 5, 6, 7], [60, 58, 40, 45, 40, 33, 25], label='umidade');  # Insere os dados.\n",
        "ax.scatter([1, 2, 3, 4, 5, 6, 7], [22, 21, 28, 25, 29, 30, 33], [250, 50, 150, 150, 200, 250, 120], label='uv', color='red')\n",
        "ax.legend();"
      ],
      "metadata": {
        "id": "b4wAyhaY08tR",
        "outputId": "dae72e56-75ca-4370-e6a0-bbe0a74b5ea9",
        "colab": {
          "base_uri": "https://localhost:8080/",
          "height": 295
        }
      },
      "execution_count": null,
      "outputs": [
        {
          "output_type": "display_data",
          "data": {
            "text/plain": [
              "<Figure size 432x288 with 1 Axes>"
            ],
            "image/png": "[encoded data removed]"
          },
          "metadata": {
            "needs_background": "light"
          }
        }
      ]
    },
    {
      "cell_type": "markdown",
      "source": [
        "Faça um programa que gere 50 números aleatórios de 0-50 e plote um gráfico de linha apresentando os 50 valores."
      ],
      "metadata": {
        "id": "jduGCAT01dqY"
      }
    },
    {
      "cell_type": "code",
      "source": [
        ""
      ],
      "metadata": {
        "id": "PsbWtxhR1d9k"
      },
      "execution_count": null,
      "outputs": []
    },
    {
      "cell_type": "markdown",
      "source": [
        "Refaça o programa anterior em que o usuário informa um arquivo texto e mostra na tela quantas vezes cada letra do alfabeto aparece dentro do arquivo. Na nova versão os dados devem ser exibidos em um gráfico de barra."
      ],
      "metadata": {
        "id": "X5j2BgbVFk9h"
      }
    },
    {
      "cell_type": "code",
      "source": [
        "import string\n",
        "\n",
        "arquivo_nome = input(\"Arquivo: \")\n",
        "alfabeto = list(string.ascii_lowercase)\n",
        "qtdes = []\n",
        "\n",
        "for contador in range(len(alfabeto)):\n",
        "  qtdes.append(0)\n",
        "\n",
        "with open(arquivo_nome, 'r') as arquivo:\n",
        "  for linha in arquivo:\n",
        "    for letra in alfabeto:\n",
        "      qtdes[alfabeto.index(letra)]+=linha.count(letra)\n",
        "\n",
        "print(alfabeto)\n",
        "print(qtdes)"
      ],
      "metadata": {
        "colab": {
          "base_uri": "https://localhost:8080/"
        },
        "id": "qYB3dKKIFxQS",
        "outputId": "cf0134fb-1fa2-433e-a8e7-129e31b4e465"
      },
      "execution_count": 1,
      "outputs": [
        {
          "output_type": "stream",
          "name": "stdout",
          "text": [
            "Arquivo: sample_data/README.md\n",
            "['a', 'b', 'c', 'd', 'e', 'f', 'g', 'h', 'i', 'j', 'k', 'l', 'm', 'n', 'o', 'p', 'q', 'r', 's', 't', 'u', 'v', 'w', 'x', 'y', 'z']\n",
            "[72, 18, 29, 27, 53, 10, 14, 18, 55, 2, 4, 21, 18, 37, 38, 16, 2, 29, 56, 52, 12, 8, 8, 1, 9, 1]\n"
          ]
        }
      ]
    },
    {
      "cell_type": "markdown",
      "source": [
        "Faça um programa que leia um arquivo contendo dados no seguinte formato:\n",
        "```\n",
        "dia;qtde_usuarios;consumo_gigabytes\n",
        "```\n",
        "\n",
        "\n",
        "e apresente esses dados em um gráfico de pontos (scatter).\n"
      ],
      "metadata": {
        "id": "JAEme3oFGJM3"
      }
    },
    {
      "cell_type": "code",
      "source": [
        ""
      ],
      "metadata": {
        "id": "lTNURa8fGJj3"
      },
      "execution_count": null,
      "outputs": []
    }
  ]
}